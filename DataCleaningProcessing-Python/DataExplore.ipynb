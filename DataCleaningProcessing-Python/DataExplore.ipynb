{
 "cells": [
  {
   "metadata": {},
   "cell_type": "markdown",
   "source": "# # Data cleaning and processing\n",
   "id": "9431a8060b0366b9"
  },
  {
   "cell_type": "code",
   "id": "initial_id",
   "metadata": {
    "collapsed": true,
    "ExecuteTime": {
     "end_time": "2025-01-31T13:56:05.952860Z",
     "start_time": "2025-01-31T13:56:05.937825Z"
    }
   },
   "source": [
    "import pandas as pd\n",
    "import seaborn as srn\n",
    "import statistics as sts"
   ],
   "outputs": [],
   "execution_count": 5
  },
  {
   "metadata": {
    "ExecuteTime": {
     "end_time": "2025-01-31T13:56:06.015125Z",
     "start_time": "2025-01-31T13:56:05.995091Z"
    }
   },
   "cell_type": "code",
   "source": [
    "dataset = pd.read_csv('../data/Churn.csv', sep=\";\")\n",
    "dataset.head()"
   ],
   "id": "daef3a123f45ab50",
   "outputs": [
    {
     "data": {
      "text/plain": [
       "   X0   X1  X2        X3  X4  X4.1        X6  X7  X8  X9         X10  X11\n",
       "0   1  619  RS  Feminino  42     2         0   1   1   1  10134888.0    1\n",
       "1   2  608  SC  Feminino  41     1   8380786   1   0   1  11254258.0    0\n",
       "2   3  502  RS  Feminino  42     8   1596608   3   1   0  11393157.0    1\n",
       "3   4  699  RS  Feminino  39     1         0   2   0   0   9382663.0    0\n",
       "4   5  850  SC  Feminino  43     2  12551082   1   1   1    790841.0    0"
      ],
      "text/html": [
       "<div>\n",
       "<style scoped>\n",
       "    .dataframe tbody tr th:only-of-type {\n",
       "        vertical-align: middle;\n",
       "    }\n",
       "\n",
       "    .dataframe tbody tr th {\n",
       "        vertical-align: top;\n",
       "    }\n",
       "\n",
       "    .dataframe thead th {\n",
       "        text-align: right;\n",
       "    }\n",
       "</style>\n",
       "<table border=\"1\" class=\"dataframe\">\n",
       "  <thead>\n",
       "    <tr style=\"text-align: right;\">\n",
       "      <th></th>\n",
       "      <th>X0</th>\n",
       "      <th>X1</th>\n",
       "      <th>X2</th>\n",
       "      <th>X3</th>\n",
       "      <th>X4</th>\n",
       "      <th>X4.1</th>\n",
       "      <th>X6</th>\n",
       "      <th>X7</th>\n",
       "      <th>X8</th>\n",
       "      <th>X9</th>\n",
       "      <th>X10</th>\n",
       "      <th>X11</th>\n",
       "    </tr>\n",
       "  </thead>\n",
       "  <tbody>\n",
       "    <tr>\n",
       "      <th>0</th>\n",
       "      <td>1</td>\n",
       "      <td>619</td>\n",
       "      <td>RS</td>\n",
       "      <td>Feminino</td>\n",
       "      <td>42</td>\n",
       "      <td>2</td>\n",
       "      <td>0</td>\n",
       "      <td>1</td>\n",
       "      <td>1</td>\n",
       "      <td>1</td>\n",
       "      <td>10134888.0</td>\n",
       "      <td>1</td>\n",
       "    </tr>\n",
       "    <tr>\n",
       "      <th>1</th>\n",
       "      <td>2</td>\n",
       "      <td>608</td>\n",
       "      <td>SC</td>\n",
       "      <td>Feminino</td>\n",
       "      <td>41</td>\n",
       "      <td>1</td>\n",
       "      <td>8380786</td>\n",
       "      <td>1</td>\n",
       "      <td>0</td>\n",
       "      <td>1</td>\n",
       "      <td>11254258.0</td>\n",
       "      <td>0</td>\n",
       "    </tr>\n",
       "    <tr>\n",
       "      <th>2</th>\n",
       "      <td>3</td>\n",
       "      <td>502</td>\n",
       "      <td>RS</td>\n",
       "      <td>Feminino</td>\n",
       "      <td>42</td>\n",
       "      <td>8</td>\n",
       "      <td>1596608</td>\n",
       "      <td>3</td>\n",
       "      <td>1</td>\n",
       "      <td>0</td>\n",
       "      <td>11393157.0</td>\n",
       "      <td>1</td>\n",
       "    </tr>\n",
       "    <tr>\n",
       "      <th>3</th>\n",
       "      <td>4</td>\n",
       "      <td>699</td>\n",
       "      <td>RS</td>\n",
       "      <td>Feminino</td>\n",
       "      <td>39</td>\n",
       "      <td>1</td>\n",
       "      <td>0</td>\n",
       "      <td>2</td>\n",
       "      <td>0</td>\n",
       "      <td>0</td>\n",
       "      <td>9382663.0</td>\n",
       "      <td>0</td>\n",
       "    </tr>\n",
       "    <tr>\n",
       "      <th>4</th>\n",
       "      <td>5</td>\n",
       "      <td>850</td>\n",
       "      <td>SC</td>\n",
       "      <td>Feminino</td>\n",
       "      <td>43</td>\n",
       "      <td>2</td>\n",
       "      <td>12551082</td>\n",
       "      <td>1</td>\n",
       "      <td>1</td>\n",
       "      <td>1</td>\n",
       "      <td>790841.0</td>\n",
       "      <td>0</td>\n",
       "    </tr>\n",
       "  </tbody>\n",
       "</table>\n",
       "</div>"
      ]
     },
     "execution_count": 6,
     "metadata": {},
     "output_type": "execute_result"
    }
   ],
   "execution_count": 6
  },
  {
   "metadata": {
    "ExecuteTime": {
     "end_time": "2025-01-31T13:56:06.076763Z",
     "start_time": "2025-01-31T13:56:06.062250Z"
    }
   },
   "cell_type": "code",
   "source": "dataset.shape",
   "id": "1297178b74d3c4cf",
   "outputs": [
    {
     "data": {
      "text/plain": [
       "(999, 12)"
      ]
     },
     "execution_count": 7,
     "metadata": {},
     "output_type": "execute_result"
    }
   ],
   "execution_count": 7
  },
  {
   "metadata": {
    "ExecuteTime": {
     "end_time": "2025-01-31T13:56:06.233974Z",
     "start_time": "2025-01-31T13:56:06.224767Z"
    }
   },
   "cell_type": "code",
   "source": "dataset.columns = [\"id\", \"Score\", \"State\", \"Gene\", \"Age\", \"Heritage\", \"Balance\", \"Products\", \"CreditCard\", \"Active\", \"Salary\", \"Left\"]",
   "id": "a1b498d953ba110b",
   "outputs": [],
   "execution_count": 8
  },
  {
   "metadata": {
    "ExecuteTime": {
     "end_time": "2025-01-31T13:56:06.327161Z",
     "start_time": "2025-01-31T13:56:06.314650Z"
    }
   },
   "cell_type": "code",
   "source": "dataset.head()",
   "id": "3be69e8ca546504e",
   "outputs": [
    {
     "data": {
      "text/plain": [
       "   id  Score State      Gene  Age  Heritage   Balance  Products  CreditCard  \\\n",
       "0   1    619    RS  Feminino   42         2         0         1           1   \n",
       "1   2    608    SC  Feminino   41         1   8380786         1           0   \n",
       "2   3    502    RS  Feminino   42         8   1596608         3           1   \n",
       "3   4    699    RS  Feminino   39         1         0         2           0   \n",
       "4   5    850    SC  Feminino   43         2  12551082         1           1   \n",
       "\n",
       "   Active      Salary  Left  \n",
       "0       1  10134888.0     1  \n",
       "1       1  11254258.0     0  \n",
       "2       0  11393157.0     1  \n",
       "3       0   9382663.0     0  \n",
       "4       1    790841.0     0  "
      ],
      "text/html": [
       "<div>\n",
       "<style scoped>\n",
       "    .dataframe tbody tr th:only-of-type {\n",
       "        vertical-align: middle;\n",
       "    }\n",
       "\n",
       "    .dataframe tbody tr th {\n",
       "        vertical-align: top;\n",
       "    }\n",
       "\n",
       "    .dataframe thead th {\n",
       "        text-align: right;\n",
       "    }\n",
       "</style>\n",
       "<table border=\"1\" class=\"dataframe\">\n",
       "  <thead>\n",
       "    <tr style=\"text-align: right;\">\n",
       "      <th></th>\n",
       "      <th>id</th>\n",
       "      <th>Score</th>\n",
       "      <th>State</th>\n",
       "      <th>Gene</th>\n",
       "      <th>Age</th>\n",
       "      <th>Heritage</th>\n",
       "      <th>Balance</th>\n",
       "      <th>Products</th>\n",
       "      <th>CreditCard</th>\n",
       "      <th>Active</th>\n",
       "      <th>Salary</th>\n",
       "      <th>Left</th>\n",
       "    </tr>\n",
       "  </thead>\n",
       "  <tbody>\n",
       "    <tr>\n",
       "      <th>0</th>\n",
       "      <td>1</td>\n",
       "      <td>619</td>\n",
       "      <td>RS</td>\n",
       "      <td>Feminino</td>\n",
       "      <td>42</td>\n",
       "      <td>2</td>\n",
       "      <td>0</td>\n",
       "      <td>1</td>\n",
       "      <td>1</td>\n",
       "      <td>1</td>\n",
       "      <td>10134888.0</td>\n",
       "      <td>1</td>\n",
       "    </tr>\n",
       "    <tr>\n",
       "      <th>1</th>\n",
       "      <td>2</td>\n",
       "      <td>608</td>\n",
       "      <td>SC</td>\n",
       "      <td>Feminino</td>\n",
       "      <td>41</td>\n",
       "      <td>1</td>\n",
       "      <td>8380786</td>\n",
       "      <td>1</td>\n",
       "      <td>0</td>\n",
       "      <td>1</td>\n",
       "      <td>11254258.0</td>\n",
       "      <td>0</td>\n",
       "    </tr>\n",
       "    <tr>\n",
       "      <th>2</th>\n",
       "      <td>3</td>\n",
       "      <td>502</td>\n",
       "      <td>RS</td>\n",
       "      <td>Feminino</td>\n",
       "      <td>42</td>\n",
       "      <td>8</td>\n",
       "      <td>1596608</td>\n",
       "      <td>3</td>\n",
       "      <td>1</td>\n",
       "      <td>0</td>\n",
       "      <td>11393157.0</td>\n",
       "      <td>1</td>\n",
       "    </tr>\n",
       "    <tr>\n",
       "      <th>3</th>\n",
       "      <td>4</td>\n",
       "      <td>699</td>\n",
       "      <td>RS</td>\n",
       "      <td>Feminino</td>\n",
       "      <td>39</td>\n",
       "      <td>1</td>\n",
       "      <td>0</td>\n",
       "      <td>2</td>\n",
       "      <td>0</td>\n",
       "      <td>0</td>\n",
       "      <td>9382663.0</td>\n",
       "      <td>0</td>\n",
       "    </tr>\n",
       "    <tr>\n",
       "      <th>4</th>\n",
       "      <td>5</td>\n",
       "      <td>850</td>\n",
       "      <td>SC</td>\n",
       "      <td>Feminino</td>\n",
       "      <td>43</td>\n",
       "      <td>2</td>\n",
       "      <td>12551082</td>\n",
       "      <td>1</td>\n",
       "      <td>1</td>\n",
       "      <td>1</td>\n",
       "      <td>790841.0</td>\n",
       "      <td>0</td>\n",
       "    </tr>\n",
       "  </tbody>\n",
       "</table>\n",
       "</div>"
      ]
     },
     "execution_count": 9,
     "metadata": {},
     "output_type": "execute_result"
    }
   ],
   "execution_count": 9
  },
  {
   "metadata": {
    "ExecuteTime": {
     "end_time": "2025-01-31T13:56:06.468929Z",
     "start_time": "2025-01-31T13:56:06.454202Z"
    }
   },
   "cell_type": "code",
   "source": [
    "agroup = dataset.groupby([\"State\"]).size()\n",
    "agroup"
   ],
   "id": "ce9304273a863192",
   "outputs": [
    {
     "data": {
      "text/plain": [
       "State\n",
       "PR    257\n",
       "RP      1\n",
       "RS    478\n",
       "SC    258\n",
       "SP      4\n",
       "TD      1\n",
       "dtype: int64"
      ]
     },
     "execution_count": 10,
     "metadata": {},
     "output_type": "execute_result"
    }
   ],
   "execution_count": 10
  },
  {
   "metadata": {
    "ExecuteTime": {
     "end_time": "2025-01-31T13:56:06.766081Z",
     "start_time": "2025-01-31T13:56:06.531165Z"
    }
   },
   "cell_type": "code",
   "source": "agroup.plot.bar(color = 'gray')",
   "id": "467ca5362003f9c0",
   "outputs": [
    {
     "data": {
      "text/plain": [
       "<Axes: xlabel='State'>"
      ]
     },
     "execution_count": 11,
     "metadata": {},
     "output_type": "execute_result"
    },
    {
     "data": {
      "text/plain": [
       "<Figure size 640x480 with 1 Axes>"
      ],
      "image/png": "[encoded data removed]"
     },
     "metadata": {},
     "output_type": "display_data"
    }
   ],
   "execution_count": 11
  },
  {
   "metadata": {
    "ExecuteTime": {
     "end_time": "2025-01-31T13:56:06.812275Z",
     "start_time": "2025-01-31T13:56:06.797258Z"
    }
   },
   "cell_type": "code",
   "source": [
    "agroup = dataset.groupby([\"Gene\"]).size()\n",
    "agroup"
   ],
   "id": "403bd7bda4b5e44a",
   "outputs": [
    {
     "data": {
      "text/plain": [
       "Gene\n",
       "F              2\n",
       "Fem            1\n",
       "Feminino     461\n",
       "M              6\n",
       "Masculino    521\n",
       "dtype: int64"
      ]
     },
     "execution_count": 12,
     "metadata": {},
     "output_type": "execute_result"
    }
   ],
   "execution_count": 12
  },
  {
   "metadata": {
    "ExecuteTime": {
     "end_time": "2025-01-31T13:56:07.062891Z",
     "start_time": "2025-01-31T13:56:06.907073Z"
    }
   },
   "cell_type": "code",
   "source": "agroup.plot.bar(color = 'gray')",
   "id": "d9da9465bf462532",
   "outputs": [
    {
     "data": {
      "text/plain": [
       "<Axes: xlabel='Gene'>"
      ]
     },
     "execution_count": 13,
     "metadata": {},
     "output_type": "execute_result"
    },
    {
     "data": {
      "text/plain": [
       "<Figure size 640x480 with 1 Axes>"
      ],
      "image/png": "[encoded data removed]"
     },
     "metadata": {},
     "output_type": "display_data"
    }
   ],
   "execution_count": 13
  },
  {
   "metadata": {
    "ExecuteTime": {
     "end_time": "2025-01-31T13:56:07.200122Z",
     "start_time": "2025-01-31T13:56:07.179100Z"
    }
   },
   "cell_type": "code",
   "source": "dataset['Score'].describe()",
   "id": "dd1bec785e71bc77",
   "outputs": [
    {
     "data": {
      "text/plain": [
       "count    999.000000\n",
       "mean     648.621622\n",
       "std       98.264219\n",
       "min      376.000000\n",
       "25%      580.000000\n",
       "50%      653.000000\n",
       "75%      721.000000\n",
       "max      850.000000\n",
       "Name: Score, dtype: float64"
      ]
     },
     "execution_count": 14,
     "metadata": {},
     "output_type": "execute_result"
    }
   ],
   "execution_count": 14
  },
  {
   "metadata": {
    "ExecuteTime": {
     "end_time": "2025-01-31T13:56:07.418953Z",
     "start_time": "2025-01-31T13:56:07.330072Z"
    }
   },
   "cell_type": "code",
   "source": "srn.boxplot(dataset['Score']).set_title('Score')",
   "id": "80ec3501e8752843",
   "outputs": [
    {
     "data": {
      "text/plain": [
       "Text(0.5, 1.0, 'Score')"
      ]
     },
     "execution_count": 15,
     "metadata": {},
     "output_type": "execute_result"
    },
    {
     "data": {
      "text/plain": [
       "<Figure size 640x480 with 1 Axes>"
      ],
      "image/png": "[encoded data removed]"
     },
     "metadata": {},
     "output_type": "display_data"
    }
   ],
   "execution_count": 15
  },
  {
   "metadata": {
    "ExecuteTime": {
     "end_time": "2025-01-31T13:56:07.682561Z",
     "start_time": "2025-01-31T13:56:07.478838Z"
    }
   },
   "cell_type": "code",
   "source": "srn.displot(dataset['Score']).set_titles('Score')",
   "id": "4b0a09f537aa2f16",
   "outputs": [
    {
     "data": {
      "text/plain": [
       "<seaborn.axisgrid.FacetGrid at 0x2426016bbb0>"
      ]
     },
     "execution_count": 16,
     "metadata": {},
     "output_type": "execute_result"
    },
    {
     "data": {
      "text/plain": [
       "<Figure size 500x500 with 1 Axes>"
      ],
      "image/png": "[encoded data removed]"
     },
     "metadata": {},
     "output_type": "display_data"
    }
   ],
   "execution_count": 16
  },
  {
   "metadata": {
    "ExecuteTime": {
     "end_time": "2025-01-31T13:56:07.730121Z",
     "start_time": "2025-01-31T13:56:07.715099Z"
    }
   },
   "cell_type": "code",
   "source": "dataset['Age'].describe()",
   "id": "cad5b3d89a93bf91",
   "outputs": [
    {
     "data": {
      "text/plain": [
       "count    999.000000\n",
       "mean      38.902903\n",
       "std       11.401912\n",
       "min      -20.000000\n",
       "25%       32.000000\n",
       "50%       37.000000\n",
       "75%       44.000000\n",
       "max      140.000000\n",
       "Name: Age, dtype: float64"
      ]
     },
     "execution_count": 17,
     "metadata": {},
     "output_type": "execute_result"
    }
   ],
   "execution_count": 17
  },
  {
   "metadata": {
    "ExecuteTime": {
     "end_time": "2025-01-31T13:56:07.916043Z",
     "start_time": "2025-01-31T13:56:07.808923Z"
    }
   },
   "cell_type": "code",
   "source": "srn.boxplot(dataset['Age']).set_title('Age')",
   "id": "178482ec702c18ab",
   "outputs": [
    {
     "data": {
      "text/plain": [
       "Text(0.5, 1.0, 'Age')"
      ]
     },
     "execution_count": 18,
     "metadata": {},
     "output_type": "execute_result"
    },
    {
     "data": {
      "text/plain": [
       "<Figure size 640x480 with 1 Axes>"
      ],
      "image/png": "[encoded data removed]"
     },
     "metadata": {},
     "output_type": "display_data"
    }
   ],
   "execution_count": 18
  },
  {
   "metadata": {
    "ExecuteTime": {
     "end_time": "2025-01-31T13:56:08.292142Z",
     "start_time": "2025-01-31T13:56:08.010316Z"
    }
   },
   "cell_type": "code",
   "source": "srn.displot(dataset['Age']).set_titles('Age')",
   "id": "f50cb9dbec6c624f",
   "outputs": [
    {
     "data": {
      "text/plain": [
       "<seaborn.axisgrid.FacetGrid at 0x2423edbad00>"
      ]
     },
     "execution_count": 19,
     "metadata": {},
     "output_type": "execute_result"
    },
    {
     "data": {
      "text/plain": [
       "<Figure size 500x500 with 1 Axes>"
      ],
      "image/png": "[encoded data removed]"
     },
     "metadata": {},
     "output_type": "display_data"
    }
   ],
   "execution_count": 19
  },
  {
   "metadata": {
    "ExecuteTime": {
     "end_time": "2025-01-31T13:56:08.323269Z",
     "start_time": "2025-01-31T13:56:08.303661Z"
    }
   },
   "cell_type": "code",
   "source": "dataset['Balance'].describe()",
   "id": "514309b5976d8326",
   "outputs": [
    {
     "data": {
      "text/plain": [
       "count    9.990000e+02\n",
       "mean     7.164928e+06\n",
       "std      6.311840e+06\n",
       "min      0.000000e+00\n",
       "25%      0.000000e+00\n",
       "50%      8.958835e+06\n",
       "75%      1.258684e+07\n",
       "max      2.117743e+07\n",
       "Name: Balance, dtype: float64"
      ]
     },
     "execution_count": 20,
     "metadata": {},
     "output_type": "execute_result"
    }
   ],
   "execution_count": 20
  },
  {
   "metadata": {
    "ExecuteTime": {
     "end_time": "2025-01-31T13:56:08.480016Z",
     "start_time": "2025-01-31T13:56:08.387872Z"
    }
   },
   "cell_type": "code",
   "source": "srn.boxplot(dataset['Balance']).set_title('Balance')",
   "id": "284fae49f4fb3979",
   "outputs": [
    {
     "data": {
      "text/plain": [
       "Text(0.5, 1.0, 'Balance')"
      ]
     },
     "execution_count": 21,
     "metadata": {},
     "output_type": "execute_result"
    },
    {
     "data": {
      "text/plain": [
       "<Figure size 640x480 with 1 Axes>"
      ],
      "image/png": "[encoded data removed]"
     },
     "metadata": {},
     "output_type": "display_data"
    }
   ],
   "execution_count": 21
  },
  {
   "metadata": {
    "ExecuteTime": {
     "end_time": "2025-01-31T13:56:08.713945Z",
     "start_time": "2025-01-31T13:56:08.512135Z"
    }
   },
   "cell_type": "code",
   "source": "srn.displot(dataset['Balance']).set_titles('Balance')",
   "id": "c0a5dfa99aa5ec6c",
   "outputs": [
    {
     "data": {
      "text/plain": [
       "<seaborn.axisgrid.FacetGrid at 0x2426403d7c0>"
      ]
     },
     "execution_count": 22,
     "metadata": {},
     "output_type": "execute_result"
    },
    {
     "data": {
      "text/plain": [
       "<Figure size 500x500 with 1 Axes>"
      ],
      "image/png": "[encoded data removed]"
     },
     "metadata": {},
     "output_type": "display_data"
    }
   ],
   "execution_count": 22
  },
  {
   "metadata": {
    "ExecuteTime": {
     "end_time": "2025-01-31T13:56:08.729022Z",
     "start_time": "2025-01-31T13:56:08.721466Z"
    }
   },
   "cell_type": "code",
   "source": "dataset['Salary'].describe()",
   "id": "9662494b9e230f16",
   "outputs": [
    {
     "data": {
      "text/plain": [
       "count    9.920000e+02\n",
       "mean     3.528762e+07\n",
       "std      5.305800e+08\n",
       "min      9.677000e+03\n",
       "25%      3.029011e+06\n",
       "50%      8.703250e+06\n",
       "75%      1.405213e+07\n",
       "max      1.193469e+10\n",
       "Name: Salary, dtype: float64"
      ]
     },
     "execution_count": 23,
     "metadata": {},
     "output_type": "execute_result"
    }
   ],
   "execution_count": 23
  },
  {
   "metadata": {
    "ExecuteTime": {
     "end_time": "2025-01-31T13:56:08.932159Z",
     "start_time": "2025-01-31T13:56:08.824695Z"
    }
   },
   "cell_type": "code",
   "source": "srn.boxplot(dataset['Salary']).set_title('Salary')",
   "id": "d43467326537c8cc",
   "outputs": [
    {
     "data": {
      "text/plain": [
       "Text(0.5, 1.0, 'Salary')"
      ]
     },
     "execution_count": 24,
     "metadata": {},
     "output_type": "execute_result"
    },
    {
     "data": {
      "text/plain": [
       "<Figure size 640x480 with 1 Axes>"
      ],
      "image/png": "[encoded data removed]"
     },
     "metadata": {},
     "output_type": "display_data"
    }
   ],
   "execution_count": 24
  },
  {
   "metadata": {
    "ExecuteTime": {
     "end_time": "2025-01-31T13:56:13.148958Z",
     "start_time": "2025-01-31T13:56:08.964217Z"
    }
   },
   "cell_type": "code",
   "source": "srn.displot(dataset['Salary']).set_titles('Salary')",
   "id": "40ebde7452d71573",
   "outputs": [
    {
     "data": {
      "text/plain": [
       "<seaborn.axisgrid.FacetGrid at 0x242640d47f0>"
      ]
     },
     "execution_count": 25,
     "metadata": {},
     "output_type": "execute_result"
    },
    {
     "data": {
      "text/plain": [
       "<Figure size 500x500 with 1 Axes>"
      ],
      "image/png": "[encoded data removed]"
     },
     "metadata": {},
     "output_type": "display_data"
    }
   ],
   "execution_count": 25
  },
  {
   "metadata": {
    "ExecuteTime": {
     "end_time": "2025-01-31T13:56:13.180512Z",
     "start_time": "2025-01-31T13:56:13.162489Z"
    }
   },
   "cell_type": "code",
   "source": "dataset.isnull().sum()",
   "id": "eced58fb254436b8",
   "outputs": [
    {
     "data": {
      "text/plain": [
       "id            0\n",
       "Score         0\n",
       "State         0\n",
       "Gene          8\n",
       "Age           0\n",
       "Heritage      0\n",
       "Balance       0\n",
       "Products      0\n",
       "CreditCard    0\n",
       "Active        0\n",
       "Salary        7\n",
       "Left          0\n",
       "dtype: int64"
      ]
     },
     "execution_count": 26,
     "metadata": {},
     "output_type": "execute_result"
    }
   ],
   "execution_count": 26
  },
  {
   "metadata": {
    "ExecuteTime": {
     "end_time": "2025-01-31T13:56:13.243150Z",
     "start_time": "2025-01-31T13:56:13.229047Z"
    }
   },
   "cell_type": "code",
   "source": "dataset['Salary'].describe()",
   "id": "5b4f3317a35cfb0a",
   "outputs": [
    {
     "data": {
      "text/plain": [
       "count    9.920000e+02\n",
       "mean     3.528762e+07\n",
       "std      5.305800e+08\n",
       "min      9.677000e+03\n",
       "25%      3.029011e+06\n",
       "50%      8.703250e+06\n",
       "75%      1.405213e+07\n",
       "max      1.193469e+10\n",
       "Name: Salary, dtype: float64"
      ]
     },
     "execution_count": 27,
     "metadata": {},
     "output_type": "execute_result"
    }
   ],
   "execution_count": 27
  },
  {
   "metadata": {
    "ExecuteTime": {
     "end_time": "2025-01-31T13:56:13.289957Z",
     "start_time": "2025-01-31T13:56:13.277698Z"
    }
   },
   "cell_type": "code",
   "source": [
    "med = sts.median(dataset['Salary'])\n",
    "med"
   ],
   "id": "ccd3cca0d31a9615",
   "outputs": [
    {
     "data": {
      "text/plain": [
       "70518.0"
      ]
     },
     "execution_count": 28,
     "metadata": {},
     "output_type": "execute_result"
    }
   ],
   "execution_count": 28
  },
  {
   "metadata": {
    "ExecuteTime": {
     "end_time": "2025-01-31T13:56:13.368891Z",
     "start_time": "2025-01-31T13:56:13.353780Z"
    }
   },
   "cell_type": "code",
   "source": "dataset['Salary'] = dataset['Salary'].fillna(med)",
   "id": "63f3b643990fbae3",
   "outputs": [],
   "execution_count": 29
  },
  {
   "metadata": {
    "ExecuteTime": {
     "end_time": "2025-01-31T13:56:13.415621Z",
     "start_time": "2025-01-31T13:56:13.401110Z"
    }
   },
   "cell_type": "code",
   "source": "dataset['Salary'].isnull().sum()",
   "id": "f96193ad050d3455",
   "outputs": [
    {
     "data": {
      "text/plain": [
       "np.int64(0)"
      ]
     },
     "execution_count": 30,
     "metadata": {},
     "output_type": "execute_result"
    }
   ],
   "execution_count": 30
  },
  {
   "metadata": {
    "ExecuteTime": {
     "end_time": "2025-01-31T13:56:13.461198Z",
     "start_time": "2025-01-31T13:56:13.447170Z"
    }
   },
   "cell_type": "code",
   "source": "dataset.isnull().sum()",
   "id": "ec513d0b71e28bfa",
   "outputs": [
    {
     "data": {
      "text/plain": [
       "id            0\n",
       "Score         0\n",
       "State         0\n",
       "Gene          8\n",
       "Age           0\n",
       "Heritage      0\n",
       "Balance       0\n",
       "Products      0\n",
       "CreditCard    0\n",
       "Active        0\n",
       "Salary        0\n",
       "Left          0\n",
       "dtype: int64"
      ]
     },
     "execution_count": 31,
     "metadata": {},
     "output_type": "execute_result"
    }
   ],
   "execution_count": 31
  },
  {
   "metadata": {
    "ExecuteTime": {
     "end_time": "2025-01-31T13:56:13.523803Z",
     "start_time": "2025-01-31T13:56:13.509278Z"
    }
   },
   "cell_type": "code",
   "source": [
    "agroup = dataset.groupby([\"Gene\"]).size()\n",
    "agroup"
   ],
   "id": "53ec3b56e062cad7",
   "outputs": [
    {
     "data": {
      "text/plain": [
       "Gene\n",
       "F              2\n",
       "Fem            1\n",
       "Feminino     461\n",
       "M              6\n",
       "Masculino    521\n",
       "dtype: int64"
      ]
     },
     "execution_count": 32,
     "metadata": {},
     "output_type": "execute_result"
    }
   ],
   "execution_count": 32
  },
  {
   "metadata": {
    "ExecuteTime": {
     "end_time": "2025-01-31T13:56:13.570236Z",
     "start_time": "2025-01-31T13:56:13.557968Z"
    }
   },
   "cell_type": "code",
   "source": "dataset['Gene'].isnull().sum()",
   "id": "86b11136298fdf50",
   "outputs": [
    {
     "data": {
      "text/plain": [
       "np.int64(8)"
      ]
     },
     "execution_count": 33,
     "metadata": {},
     "output_type": "execute_result"
    }
   ],
   "execution_count": 33
  },
  {
   "metadata": {
    "ExecuteTime": {
     "end_time": "2025-01-31T13:56:13.663702Z",
     "start_time": "2025-01-31T13:56:13.649099Z"
    }
   },
   "cell_type": "code",
   "source": "dataset['Gene'].fillna(\"Masculino\", inplace = True)",
   "id": "8511dbe4c9474e9d",
   "outputs": [
    {
     "name": "stderr",
     "output_type": "stream",
     "text": [
      "C:\\Users\\gt3ix\\AppData\\Local\\Temp\\ipykernel_11984\\1118267883.py:1: FutureWarning: A value is trying to be set on a copy of a DataFrame or Series through chained assignment using an inplace method.\n",
      "The behavior will change in pandas 3.0. This inplace method will never work because the intermediate object on which we are setting values always behaves as a copy.\n",
      "\n",
      "For example, when doing 'df[col].method(value, inplace=True)', try using 'df.method({col: value}, inplace=True)' or df[col] = df[col].method(value) instead, to perform the operation inplace on the original object.\n",
      "\n",
      "\n",
      "  dataset['Gene'].fillna(\"Masculino\", inplace = True)\n"
     ]
    }
   ],
   "execution_count": 34
  },
  {
   "metadata": {
    "ExecuteTime": {
     "end_time": "2025-01-31T13:56:13.725291Z",
     "start_time": "2025-01-31T13:56:13.714007Z"
    }
   },
   "cell_type": "code",
   "source": "dataset.isnull().sum()",
   "id": "bc628e9eea9a9ac7",
   "outputs": [
    {
     "data": {
      "text/plain": [
       "id            0\n",
       "Score         0\n",
       "State         0\n",
       "Gene          0\n",
       "Age           0\n",
       "Heritage      0\n",
       "Balance       0\n",
       "Products      0\n",
       "CreditCard    0\n",
       "Active        0\n",
       "Salary        0\n",
       "Left          0\n",
       "dtype: int64"
      ]
     },
     "execution_count": 35,
     "metadata": {},
     "output_type": "execute_result"
    }
   ],
   "execution_count": 35
  },
  {
   "metadata": {
    "ExecuteTime": {
     "end_time": "2025-01-31T13:56:13.819141Z",
     "start_time": "2025-01-31T13:56:13.804061Z"
    }
   },
   "cell_type": "code",
   "source": [
    "dataset.loc[dataset['Gene'] == 'M', 'Gene'] = \"Masculino\"\n",
    "dataset.loc[dataset['Gene'].isin( ['Fem', 'F']), 'Gene'] = \"Feminino\"\n",
    "agroup = dataset.groupby([\"Gene\"]).size()\n",
    "agroup"
   ],
   "id": "64fb44a9359522e0",
   "outputs": [
    {
     "data": {
      "text/plain": [
       "Gene\n",
       "Feminino     464\n",
       "Masculino    535\n",
       "dtype: int64"
      ]
     },
     "execution_count": 36,
     "metadata": {},
     "output_type": "execute_result"
    }
   ],
   "execution_count": 36
  },
  {
   "metadata": {
    "ExecuteTime": {
     "end_time": "2025-01-31T13:56:13.880865Z",
     "start_time": "2025-01-31T13:56:13.870356Z"
    }
   },
   "cell_type": "code",
   "source": "dataset['Age'].describe()",
   "id": "4b860bd174b191ca",
   "outputs": [
    {
     "data": {
      "text/plain": [
       "count    999.000000\n",
       "mean      38.902903\n",
       "std       11.401912\n",
       "min      -20.000000\n",
       "25%       32.000000\n",
       "50%       37.000000\n",
       "75%       44.000000\n",
       "max      140.000000\n",
       "Name: Age, dtype: float64"
      ]
     },
     "execution_count": 37,
     "metadata": {},
     "output_type": "execute_result"
    }
   ],
   "execution_count": 37
  },
  {
   "metadata": {
    "ExecuteTime": {
     "end_time": "2025-01-31T13:57:58.049417Z",
     "start_time": "2025-01-31T13:57:58.036387Z"
    }
   },
   "cell_type": "code",
   "source": "dataset.loc[(dataset['Age'] < 0) | (dataset['Age'] > 120)]",
   "id": "df1a8fde9211846a",
   "outputs": [
    {
     "data": {
      "text/plain": [
       "      id  Score State       Gene  Age  Heritage   Balance  Products  \\\n",
       "867  869    636    RS   Feminino  -10         1  17083346         1   \n",
       "984  986    773    RS  Masculino  -20         1  12453278         2   \n",
       "990  992    655    RS  Masculino  140         5     93147         2   \n",
       "\n",
       "     CreditCard  Active      Salary  Left  \n",
       "867           1       0  11051028.0     1  \n",
       "984           0       1   1172357.0     0  \n",
       "990           1       0   6621413.0     0  "
      ],
      "text/html": [
       "<div>\n",
       "<style scoped>\n",
       "    .dataframe tbody tr th:only-of-type {\n",
       "        vertical-align: middle;\n",
       "    }\n",
       "\n",
       "    .dataframe tbody tr th {\n",
       "        vertical-align: top;\n",
       "    }\n",
       "\n",
       "    .dataframe thead th {\n",
       "        text-align: right;\n",
       "    }\n",
       "</style>\n",
       "<table border=\"1\" class=\"dataframe\">\n",
       "  <thead>\n",
       "    <tr style=\"text-align: right;\">\n",
       "      <th></th>\n",
       "      <th>id</th>\n",
       "      <th>Score</th>\n",
       "      <th>State</th>\n",
       "      <th>Gene</th>\n",
       "      <th>Age</th>\n",
       "      <th>Heritage</th>\n",
       "      <th>Balance</th>\n",
       "      <th>Products</th>\n",
       "      <th>CreditCard</th>\n",
       "      <th>Active</th>\n",
       "      <th>Salary</th>\n",
       "      <th>Left</th>\n",
       "    </tr>\n",
       "  </thead>\n",
       "  <tbody>\n",
       "    <tr>\n",
       "      <th>867</th>\n",
       "      <td>869</td>\n",
       "      <td>636</td>\n",
       "      <td>RS</td>\n",
       "      <td>Feminino</td>\n",
       "      <td>-10</td>\n",
       "      <td>1</td>\n",
       "      <td>17083346</td>\n",
       "      <td>1</td>\n",
       "      <td>1</td>\n",
       "      <td>0</td>\n",
       "      <td>11051028.0</td>\n",
       "      <td>1</td>\n",
       "    </tr>\n",
       "    <tr>\n",
       "      <th>984</th>\n",
       "      <td>986</td>\n",
       "      <td>773</td>\n",
       "      <td>RS</td>\n",
       "      <td>Masculino</td>\n",
       "      <td>-20</td>\n",
       "      <td>1</td>\n",
       "      <td>12453278</td>\n",
       "      <td>2</td>\n",
       "      <td>0</td>\n",
       "      <td>1</td>\n",
       "      <td>1172357.0</td>\n",
       "      <td>0</td>\n",
       "    </tr>\n",
       "    <tr>\n",
       "      <th>990</th>\n",
       "      <td>992</td>\n",
       "      <td>655</td>\n",
       "      <td>RS</td>\n",
       "      <td>Masculino</td>\n",
       "      <td>140</td>\n",
       "      <td>5</td>\n",
       "      <td>93147</td>\n",
       "      <td>2</td>\n",
       "      <td>1</td>\n",
       "      <td>0</td>\n",
       "      <td>6621413.0</td>\n",
       "      <td>0</td>\n",
       "    </tr>\n",
       "  </tbody>\n",
       "</table>\n",
       "</div>"
      ]
     },
     "execution_count": 38,
     "metadata": {},
     "output_type": "execute_result"
    }
   ],
   "execution_count": 38
  },
  {
   "metadata": {
    "ExecuteTime": {
     "end_time": "2025-01-31T13:58:31.193565Z",
     "start_time": "2025-01-31T13:58:31.179041Z"
    }
   },
   "cell_type": "code",
   "source": [
    "median = dataset['Age'].median()\n",
    "median"
   ],
   "id": "c0eca44b25cbac6",
   "outputs": [
    {
     "data": {
      "text/plain": [
       "np.float64(37.0)"
      ]
     },
     "execution_count": 39,
     "metadata": {},
     "output_type": "execute_result"
    }
   ],
   "execution_count": 39
  },
  {
   "metadata": {
    "ExecuteTime": {
     "end_time": "2025-01-31T13:58:55.337223Z",
     "start_time": "2025-01-31T13:58:55.323152Z"
    }
   },
   "cell_type": "code",
   "source": "dataset.loc[(dataset['Age'] < 0) | (dataset['Age'] > 120), 'Age'] = median",
   "id": "a5e401a6e030348",
   "outputs": [],
   "execution_count": 40
  },
  {
   "metadata": {
    "ExecuteTime": {
     "end_time": "2025-01-31T14:00:30.901098Z",
     "start_time": "2025-01-31T14:00:30.887775Z"
    }
   },
   "cell_type": "code",
   "source": "dataset.loc[(dataset['Age'] < 0) | (dataset['Age'] > 120)]",
   "id": "61a51251af3f1fd0",
   "outputs": [
    {
     "data": {
      "text/plain": [
       "Empty DataFrame\n",
       "Columns: [id, Score, State, Gene, Age, Heritage, Balance, Products, CreditCard, Active, Salary, Left]\n",
       "Index: []"
      ],
      "text/html": [
       "<div>\n",
       "<style scoped>\n",
       "    .dataframe tbody tr th:only-of-type {\n",
       "        vertical-align: middle;\n",
       "    }\n",
       "\n",
       "    .dataframe tbody tr th {\n",
       "        vertical-align: top;\n",
       "    }\n",
       "\n",
       "    .dataframe thead th {\n",
       "        text-align: right;\n",
       "    }\n",
       "</style>\n",
       "<table border=\"1\" class=\"dataframe\">\n",
       "  <thead>\n",
       "    <tr style=\"text-align: right;\">\n",
       "      <th></th>\n",
       "      <th>id</th>\n",
       "      <th>Score</th>\n",
       "      <th>State</th>\n",
       "      <th>Gene</th>\n",
       "      <th>Age</th>\n",
       "      <th>Heritage</th>\n",
       "      <th>Balance</th>\n",
       "      <th>Products</th>\n",
       "      <th>CreditCard</th>\n",
       "      <th>Active</th>\n",
       "      <th>Salary</th>\n",
       "      <th>Left</th>\n",
       "    </tr>\n",
       "  </thead>\n",
       "  <tbody>\n",
       "  </tbody>\n",
       "</table>\n",
       "</div>"
      ]
     },
     "execution_count": 41,
     "metadata": {},
     "output_type": "execute_result"
    }
   ],
   "execution_count": 41
  },
  {
   "metadata": {
    "ExecuteTime": {
     "end_time": "2025-01-31T14:01:41.559431Z",
     "start_time": "2025-01-31T14:01:41.548912Z"
    }
   },
   "cell_type": "code",
   "source": "dataset[dataset.duplicated(['id'], keep=False)]",
   "id": "62cf8630d5294e09",
   "outputs": [
    {
     "data": {
      "text/plain": [
       "    id  Score State      Gene  Age  Heritage  Balance  Products  CreditCard  \\\n",
       "80  81    665    RS  Feminino   34         1  9664554         2           0   \n",
       "81  81    665    RS  Feminino   34         1  9664554         2           0   \n",
       "\n",
       "    Active      Salary  Left  \n",
       "80       0  17141366.0     0  \n",
       "81       0  17141366.0     0  "
      ],
      "text/html": [
       "<div>\n",
       "<style scoped>\n",
       "    .dataframe tbody tr th:only-of-type {\n",
       "        vertical-align: middle;\n",
       "    }\n",
       "\n",
       "    .dataframe tbody tr th {\n",
       "        vertical-align: top;\n",
       "    }\n",
       "\n",
       "    .dataframe thead th {\n",
       "        text-align: right;\n",
       "    }\n",
       "</style>\n",
       "<table border=\"1\" class=\"dataframe\">\n",
       "  <thead>\n",
       "    <tr style=\"text-align: right;\">\n",
       "      <th></th>\n",
       "      <th>id</th>\n",
       "      <th>Score</th>\n",
       "      <th>State</th>\n",
       "      <th>Gene</th>\n",
       "      <th>Age</th>\n",
       "      <th>Heritage</th>\n",
       "      <th>Balance</th>\n",
       "      <th>Products</th>\n",
       "      <th>CreditCard</th>\n",
       "      <th>Active</th>\n",
       "      <th>Salary</th>\n",
       "      <th>Left</th>\n",
       "    </tr>\n",
       "  </thead>\n",
       "  <tbody>\n",
       "    <tr>\n",
       "      <th>80</th>\n",
       "      <td>81</td>\n",
       "      <td>665</td>\n",
       "      <td>RS</td>\n",
       "      <td>Feminino</td>\n",
       "      <td>34</td>\n",
       "      <td>1</td>\n",
       "      <td>9664554</td>\n",
       "      <td>2</td>\n",
       "      <td>0</td>\n",
       "      <td>0</td>\n",
       "      <td>17141366.0</td>\n",
       "      <td>0</td>\n",
       "    </tr>\n",
       "    <tr>\n",
       "      <th>81</th>\n",
       "      <td>81</td>\n",
       "      <td>665</td>\n",
       "      <td>RS</td>\n",
       "      <td>Feminino</td>\n",
       "      <td>34</td>\n",
       "      <td>1</td>\n",
       "      <td>9664554</td>\n",
       "      <td>2</td>\n",
       "      <td>0</td>\n",
       "      <td>0</td>\n",
       "      <td>17141366.0</td>\n",
       "      <td>0</td>\n",
       "    </tr>\n",
       "  </tbody>\n",
       "</table>\n",
       "</div>"
      ]
     },
     "execution_count": 43,
     "metadata": {},
     "output_type": "execute_result"
    }
   ],
   "execution_count": 43
  },
  {
   "metadata": {
    "ExecuteTime": {
     "end_time": "2025-01-31T14:03:41.138815Z",
     "start_time": "2025-01-31T14:03:41.125304Z"
    }
   },
   "cell_type": "code",
   "source": [
    "dataset.drop_duplicates(subset='id', keep=False, inplace=True)\n",
    "dataset[dataset.duplicated(['id'], keep=False)]"
   ],
   "id": "2709d3183f965f86",
   "outputs": [
    {
     "data": {
      "text/plain": [
       "Empty DataFrame\n",
       "Columns: [id, Score, State, Gene, Age, Heritage, Balance, Products, CreditCard, Active, Salary, Left]\n",
       "Index: []"
      ],
      "text/html": [
       "<div>\n",
       "<style scoped>\n",
       "    .dataframe tbody tr th:only-of-type {\n",
       "        vertical-align: middle;\n",
       "    }\n",
       "\n",
       "    .dataframe tbody tr th {\n",
       "        vertical-align: top;\n",
       "    }\n",
       "\n",
       "    .dataframe thead th {\n",
       "        text-align: right;\n",
       "    }\n",
       "</style>\n",
       "<table border=\"1\" class=\"dataframe\">\n",
       "  <thead>\n",
       "    <tr style=\"text-align: right;\">\n",
       "      <th></th>\n",
       "      <th>id</th>\n",
       "      <th>Score</th>\n",
       "      <th>State</th>\n",
       "      <th>Gene</th>\n",
       "      <th>Age</th>\n",
       "      <th>Heritage</th>\n",
       "      <th>Balance</th>\n",
       "      <th>Products</th>\n",
       "      <th>CreditCard</th>\n",
       "      <th>Active</th>\n",
       "      <th>Salary</th>\n",
       "      <th>Left</th>\n",
       "    </tr>\n",
       "  </thead>\n",
       "  <tbody>\n",
       "  </tbody>\n",
       "</table>\n",
       "</div>"
      ]
     },
     "execution_count": 44,
     "metadata": {},
     "output_type": "execute_result"
    }
   ],
   "execution_count": 44
  },
  {
   "metadata": {
    "ExecuteTime": {
     "end_time": "2025-01-31T14:05:28.941012Z",
     "start_time": "2025-01-31T14:05:28.926496Z"
    }
   },
   "cell_type": "code",
   "source": [
    "agroup = dataset.groupby([\"State\"]).size()\n",
    "agroup"
   ],
   "id": "15a650b67a5abe5e",
   "outputs": [
    {
     "data": {
      "text/plain": [
       "State\n",
       "PR    257\n",
       "RP      1\n",
       "RS    476\n",
       "SC    258\n",
       "SP      4\n",
       "TD      1\n",
       "dtype: int64"
      ]
     },
     "execution_count": 45,
     "metadata": {},
     "output_type": "execute_result"
    }
   ],
   "execution_count": 45
  },
  {
   "metadata": {
    "ExecuteTime": {
     "end_time": "2025-01-31T14:08:02.716034Z",
     "start_time": "2025-01-31T14:08:02.702001Z"
    }
   },
   "cell_type": "code",
   "source": [
    "dataset.loc[dataset['State'].isin(['RP', 'SP', 'TD']), 'State'] = 'RS'\n",
    "agroup = dataset.groupby([\"State\"]).size()"
   ],
   "id": "7408da410f1271d6",
   "outputs": [],
   "execution_count": 46
  },
  {
   "metadata": {
    "ExecuteTime": {
     "end_time": "2025-01-31T14:08:09.540923Z",
     "start_time": "2025-01-31T14:08:09.525904Z"
    }
   },
   "cell_type": "code",
   "source": "agroup",
   "id": "3498d837ea11c0f8",
   "outputs": [
    {
     "data": {
      "text/plain": [
       "State\n",
       "PR    257\n",
       "RS    482\n",
       "SC    258\n",
       "dtype: int64"
      ]
     },
     "execution_count": 47,
     "metadata": {},
     "output_type": "execute_result"
    }
   ],
   "execution_count": 47
  },
  {
   "metadata": {
    "ExecuteTime": {
     "end_time": "2025-01-31T14:09:08.579961Z",
     "start_time": "2025-01-31T14:09:08.565447Z"
    }
   },
   "cell_type": "code",
   "source": [
    "desv = sts.stdev(dataset['Salary'])\n",
    "desv"
   ],
   "id": "ca81bbc0399fe835",
   "outputs": [
    {
     "data": {
      "text/plain": [
       "529254103.7190325"
      ]
     },
     "execution_count": 48,
     "metadata": {},
     "output_type": "execute_result"
    }
   ],
   "execution_count": 48
  },
  {
   "metadata": {
    "ExecuteTime": {
     "end_time": "2025-01-31T14:11:13.689566Z",
     "start_time": "2025-01-31T14:11:13.675528Z"
    }
   },
   "cell_type": "code",
   "source": "dataset.loc[dataset['Salary'] >= 2 * desv]",
   "id": "b40ba36529cd12ec",
   "outputs": [
    {
     "data": {
      "text/plain": [
       "      id  Score State       Gene  Age  Heritage   Balance  Products  \\\n",
       "7      8    376    PR   Feminino   29         4  11504674         4   \n",
       "116  118    668    PR   Feminino   37         6   1678644         1   \n",
       "170  172    484    RS   Feminino   29         4  13011439         1   \n",
       "230  232    673    RS  Masculino   72         1         0         2   \n",
       "\n",
       "     CreditCard  Active        Salary  Left  \n",
       "7             1       0  1.193469e+10     1  \n",
       "116           1       0  1.156383e+10     0  \n",
       "170           1       0  1.640179e+09     0  \n",
       "230           0       1  1.119812e+09     0  "
      ],
      "text/html": [
       "<div>\n",
       "<style scoped>\n",
       "    .dataframe tbody tr th:only-of-type {\n",
       "        vertical-align: middle;\n",
       "    }\n",
       "\n",
       "    .dataframe tbody tr th {\n",
       "        vertical-align: top;\n",
       "    }\n",
       "\n",
       "    .dataframe thead th {\n",
       "        text-align: right;\n",
       "    }\n",
       "</style>\n",
       "<table border=\"1\" class=\"dataframe\">\n",
       "  <thead>\n",
       "    <tr style=\"text-align: right;\">\n",
       "      <th></th>\n",
       "      <th>id</th>\n",
       "      <th>Score</th>\n",
       "      <th>State</th>\n",
       "      <th>Gene</th>\n",
       "      <th>Age</th>\n",
       "      <th>Heritage</th>\n",
       "      <th>Balance</th>\n",
       "      <th>Products</th>\n",
       "      <th>CreditCard</th>\n",
       "      <th>Active</th>\n",
       "      <th>Salary</th>\n",
       "      <th>Left</th>\n",
       "    </tr>\n",
       "  </thead>\n",
       "  <tbody>\n",
       "    <tr>\n",
       "      <th>7</th>\n",
       "      <td>8</td>\n",
       "      <td>376</td>\n",
       "      <td>PR</td>\n",
       "      <td>Feminino</td>\n",
       "      <td>29</td>\n",
       "      <td>4</td>\n",
       "      <td>11504674</td>\n",
       "      <td>4</td>\n",
       "      <td>1</td>\n",
       "      <td>0</td>\n",
       "      <td>1.193469e+10</td>\n",
       "      <td>1</td>\n",
       "    </tr>\n",
       "    <tr>\n",
       "      <th>116</th>\n",
       "      <td>118</td>\n",
       "      <td>668</td>\n",
       "      <td>PR</td>\n",
       "      <td>Feminino</td>\n",
       "      <td>37</td>\n",
       "      <td>6</td>\n",
       "      <td>1678644</td>\n",
       "      <td>1</td>\n",
       "      <td>1</td>\n",
       "      <td>0</td>\n",
       "      <td>1.156383e+10</td>\n",
       "      <td>0</td>\n",
       "    </tr>\n",
       "    <tr>\n",
       "      <th>170</th>\n",
       "      <td>172</td>\n",
       "      <td>484</td>\n",
       "      <td>RS</td>\n",
       "      <td>Feminino</td>\n",
       "      <td>29</td>\n",
       "      <td>4</td>\n",
       "      <td>13011439</td>\n",
       "      <td>1</td>\n",
       "      <td>1</td>\n",
       "      <td>0</td>\n",
       "      <td>1.640179e+09</td>\n",
       "      <td>0</td>\n",
       "    </tr>\n",
       "    <tr>\n",
       "      <th>230</th>\n",
       "      <td>232</td>\n",
       "      <td>673</td>\n",
       "      <td>RS</td>\n",
       "      <td>Masculino</td>\n",
       "      <td>72</td>\n",
       "      <td>1</td>\n",
       "      <td>0</td>\n",
       "      <td>2</td>\n",
       "      <td>0</td>\n",
       "      <td>1</td>\n",
       "      <td>1.119812e+09</td>\n",
       "      <td>0</td>\n",
       "    </tr>\n",
       "  </tbody>\n",
       "</table>\n",
       "</div>"
      ]
     },
     "execution_count": 49,
     "metadata": {},
     "output_type": "execute_result"
    }
   ],
   "execution_count": 49
  },
  {
   "metadata": {
    "ExecuteTime": {
     "end_time": "2025-01-31T14:11:34.310309Z",
     "start_time": "2025-01-31T14:11:34.295519Z"
    }
   },
   "cell_type": "code",
   "source": [
    "median = sts.median(dataset['Salary'])\n",
    "median"
   ],
   "id": "2241960480717b83",
   "outputs": [
    {
     "data": {
      "text/plain": [
       "8633363.0"
      ]
     },
     "execution_count": 50,
     "metadata": {},
     "output_type": "execute_result"
    }
   ],
   "execution_count": 50
  },
  {
   "metadata": {
    "ExecuteTime": {
     "end_time": "2025-01-31T14:12:47.185643Z",
     "start_time": "2025-01-31T14:12:47.171603Z"
    }
   },
   "cell_type": "code",
   "source": [
    "dataset.loc[dataset['Salary'] >= 2 * desv, 'Salary'] = median\n",
    "dataset.loc[dataset['Salary'] >= 2 * desv]"
   ],
   "id": "b5508a9b6210e191",
   "outputs": [
    {
     "data": {
      "text/plain": [
       "Empty DataFrame\n",
       "Columns: [id, Score, State, Gene, Age, Heritage, Balance, Products, CreditCard, Active, Salary, Left]\n",
       "Index: []"
      ],
      "text/html": [
       "<div>\n",
       "<style scoped>\n",
       "    .dataframe tbody tr th:only-of-type {\n",
       "        vertical-align: middle;\n",
       "    }\n",
       "\n",
       "    .dataframe tbody tr th {\n",
       "        vertical-align: top;\n",
       "    }\n",
       "\n",
       "    .dataframe thead th {\n",
       "        text-align: right;\n",
       "    }\n",
       "</style>\n",
       "<table border=\"1\" class=\"dataframe\">\n",
       "  <thead>\n",
       "    <tr style=\"text-align: right;\">\n",
       "      <th></th>\n",
       "      <th>id</th>\n",
       "      <th>Score</th>\n",
       "      <th>State</th>\n",
       "      <th>Gene</th>\n",
       "      <th>Age</th>\n",
       "      <th>Heritage</th>\n",
       "      <th>Balance</th>\n",
       "      <th>Products</th>\n",
       "      <th>CreditCard</th>\n",
       "      <th>Active</th>\n",
       "      <th>Salary</th>\n",
       "      <th>Left</th>\n",
       "    </tr>\n",
       "  </thead>\n",
       "  <tbody>\n",
       "  </tbody>\n",
       "</table>\n",
       "</div>"
      ]
     },
     "execution_count": 51,
     "metadata": {},
     "output_type": "execute_result"
    }
   ],
   "execution_count": 51
  },
  {
   "metadata": {
    "ExecuteTime": {
     "end_time": "2025-01-31T14:13:29.354030Z",
     "start_time": "2025-01-31T14:13:29.339517Z"
    }
   },
   "cell_type": "code",
   "source": "dataset.head()",
   "id": "f5f04d35f57a967c",
   "outputs": [
    {
     "data": {
      "text/plain": [
       "   id  Score State      Gene  Age  Heritage   Balance  Products  CreditCard  \\\n",
       "0   1    619    RS  Feminino   42         2         0         1           1   \n",
       "1   2    608    SC  Feminino   41         1   8380786         1           0   \n",
       "2   3    502    RS  Feminino   42         8   1596608         3           1   \n",
       "3   4    699    RS  Feminino   39         1         0         2           0   \n",
       "4   5    850    SC  Feminino   43         2  12551082         1           1   \n",
       "\n",
       "   Active      Salary  Left  \n",
       "0       1  10134888.0     1  \n",
       "1       1  11254258.0     0  \n",
       "2       0  11393157.0     1  \n",
       "3       0   9382663.0     0  \n",
       "4       1    790841.0     0  "
      ],
      "text/html": [
       "<div>\n",
       "<style scoped>\n",
       "    .dataframe tbody tr th:only-of-type {\n",
       "        vertical-align: middle;\n",
       "    }\n",
       "\n",
       "    .dataframe tbody tr th {\n",
       "        vertical-align: top;\n",
       "    }\n",
       "\n",
       "    .dataframe thead th {\n",
       "        text-align: right;\n",
       "    }\n",
       "</style>\n",
       "<table border=\"1\" class=\"dataframe\">\n",
       "  <thead>\n",
       "    <tr style=\"text-align: right;\">\n",
       "      <th></th>\n",
       "      <th>id</th>\n",
       "      <th>Score</th>\n",
       "      <th>State</th>\n",
       "      <th>Gene</th>\n",
       "      <th>Age</th>\n",
       "      <th>Heritage</th>\n",
       "      <th>Balance</th>\n",
       "      <th>Products</th>\n",
       "      <th>CreditCard</th>\n",
       "      <th>Active</th>\n",
       "      <th>Salary</th>\n",
       "      <th>Left</th>\n",
       "    </tr>\n",
       "  </thead>\n",
       "  <tbody>\n",
       "    <tr>\n",
       "      <th>0</th>\n",
       "      <td>1</td>\n",
       "      <td>619</td>\n",
       "      <td>RS</td>\n",
       "      <td>Feminino</td>\n",
       "      <td>42</td>\n",
       "      <td>2</td>\n",
       "      <td>0</td>\n",
       "      <td>1</td>\n",
       "      <td>1</td>\n",
       "      <td>1</td>\n",
       "      <td>10134888.0</td>\n",
       "      <td>1</td>\n",
       "    </tr>\n",
       "    <tr>\n",
       "      <th>1</th>\n",
       "      <td>2</td>\n",
       "      <td>608</td>\n",
       "      <td>SC</td>\n",
       "      <td>Feminino</td>\n",
       "      <td>41</td>\n",
       "      <td>1</td>\n",
       "      <td>8380786</td>\n",
       "      <td>1</td>\n",
       "      <td>0</td>\n",
       "      <td>1</td>\n",
       "      <td>11254258.0</td>\n",
       "      <td>0</td>\n",
       "    </tr>\n",
       "    <tr>\n",
       "      <th>2</th>\n",
       "      <td>3</td>\n",
       "      <td>502</td>\n",
       "      <td>RS</td>\n",
       "      <td>Feminino</td>\n",
       "      <td>42</td>\n",
       "      <td>8</td>\n",
       "      <td>1596608</td>\n",
       "      <td>3</td>\n",
       "      <td>1</td>\n",
       "      <td>0</td>\n",
       "      <td>11393157.0</td>\n",
       "      <td>1</td>\n",
       "    </tr>\n",
       "    <tr>\n",
       "      <th>3</th>\n",
       "      <td>4</td>\n",
       "      <td>699</td>\n",
       "      <td>RS</td>\n",
       "      <td>Feminino</td>\n",
       "      <td>39</td>\n",
       "      <td>1</td>\n",
       "      <td>0</td>\n",
       "      <td>2</td>\n",
       "      <td>0</td>\n",
       "      <td>0</td>\n",
       "      <td>9382663.0</td>\n",
       "      <td>0</td>\n",
       "    </tr>\n",
       "    <tr>\n",
       "      <th>4</th>\n",
       "      <td>5</td>\n",
       "      <td>850</td>\n",
       "      <td>SC</td>\n",
       "      <td>Feminino</td>\n",
       "      <td>43</td>\n",
       "      <td>2</td>\n",
       "      <td>12551082</td>\n",
       "      <td>1</td>\n",
       "      <td>1</td>\n",
       "      <td>1</td>\n",
       "      <td>790841.0</td>\n",
       "      <td>0</td>\n",
       "    </tr>\n",
       "  </tbody>\n",
       "</table>\n",
       "</div>"
      ]
     },
     "execution_count": 52,
     "metadata": {},
     "output_type": "execute_result"
    }
   ],
   "execution_count": 52
  },
  {
   "metadata": {
    "ExecuteTime": {
     "end_time": "2025-01-31T14:13:42.552599Z",
     "start_time": "2025-01-31T14:13:42.538086Z"
    }
   },
   "cell_type": "code",
   "source": "dataset.shape",
   "id": "251924060b58d391",
   "outputs": [
    {
     "data": {
      "text/plain": [
       "(997, 12)"
      ]
     },
     "execution_count": 53,
     "metadata": {},
     "output_type": "execute_result"
    }
   ],
   "execution_count": 53
  }
 ],
 "metadata": {
  "kernelspec": {
   "display_name": "Python 3",
   "language": "python",
   "name": "python3"
  },
  "language_info": {
   "codemirror_mode": {
    "name": "ipython",
    "version": 2
   },
   "file_extension": ".py",
   "mimetype": "text/x-python",
   "name": "python",
   "nbconvert_exporter": "python",
   "pygments_lexer": "ipython2",
   "version": "2.7.6"
  }
 },
 "nbformat": 4,
 "nbformat_minor": 5
}
