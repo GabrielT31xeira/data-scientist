{
 "cells": [
  {
   "metadata": {},
   "cell_type": "markdown",
   "source": "# Module and Packages",
   "id": "7863b7d974456ba9"
  },
  {
   "cell_type": "code",
   "id": "initial_id",
   "metadata": {
    "collapsed": true,
    "ExecuteTime": {
     "end_time": "2025-01-27T21:27:16.273578Z",
     "start_time": "2025-01-27T21:27:16.246577Z"
    }
   },
   "source": [
    "import statistics\n",
    "z = [10, 20, 30, 40]\n",
    "x = statistics.mean(z)\n",
    "y = statistics.median(z)\n",
    "print(x)\n",
    "print(y)"
   ],
   "outputs": [
    {
     "name": "stdout",
     "output_type": "stream",
     "text": [
      "25\n",
      "25.0\n"
     ]
    }
   ],
   "execution_count": 1
  },
  {
   "metadata": {
    "ExecuteTime": {
     "end_time": "2025-01-27T21:27:48.979504Z",
     "start_time": "2025-01-27T21:27:48.965506Z"
    }
   },
   "cell_type": "code",
   "source": [
    "import statistics as est\n",
    "z = [10, 20, 30, 40]\n",
    "x = est.mean(z)\n",
    "y = est.median(z)\n",
    "print(x)\n",
    "print(y)"
   ],
   "id": "ed2d58e39f50a3fd",
   "outputs": [
    {
     "name": "stdout",
     "output_type": "stream",
     "text": [
      "25\n",
      "25.0\n"
     ]
    }
   ],
   "execution_count": 2
  },
  {
   "metadata": {
    "ExecuteTime": {
     "end_time": "2025-01-27T21:28:05.849286Z",
     "start_time": "2025-01-27T21:28:05.834288Z"
    }
   },
   "cell_type": "code",
   "source": [
    "from statistics import mean, median\n",
    "z = [10, 20, 30, 40]\n",
    "x = mean(z)\n",
    "y = median(z)\n",
    "print(x)\n",
    "print(y)"
   ],
   "id": "11e625a0f153a82",
   "outputs": [
    {
     "name": "stdout",
     "output_type": "stream",
     "text": [
      "25\n",
      "25.0\n"
     ]
    }
   ],
   "execution_count": 3
  },
  {
   "metadata": {
    "ExecuteTime": {
     "end_time": "2025-01-27T21:28:42.464919Z",
     "start_time": "2025-01-27T21:28:42.449918Z"
    }
   },
   "cell_type": "code",
   "source": [
    "from statistics import *\n",
    "z = [10, 20, 30, 40]\n",
    "x = mean(z)\n",
    "y = median(z)\n",
    "print(x)\n",
    "print(y)"
   ],
   "id": "b099e015a1c6a6a5",
   "outputs": [
    {
     "name": "stdout",
     "output_type": "stream",
     "text": [
      "25\n",
      "25.0\n"
     ]
    }
   ],
   "execution_count": 4
  },
  {
   "metadata": {},
   "cell_type": "code",
   "outputs": [],
   "execution_count": null,
   "source": "",
   "id": "2967c3c96a0bcc79"
  }
 ],
 "metadata": {
  "kernelspec": {
   "display_name": "Python 3",
   "language": "python",
   "name": "python3"
  },
  "language_info": {
   "codemirror_mode": {
    "name": "ipython",
    "version": 2
   },
   "file_extension": ".py",
   "mimetype": "text/x-python",
   "name": "python",
   "nbconvert_exporter": "python",
   "pygments_lexer": "ipython2",
   "version": "2.7.6"
  }
 },
 "nbformat": 4,
 "nbformat_minor": 5
}
