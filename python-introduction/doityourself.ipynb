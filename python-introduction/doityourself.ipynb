{
 "cells": [
  {
   "metadata": {},
   "cell_type": "markdown",
   "source": "# Activities",
   "id": "9fe7f2e8b99222c6"
  },
  {
   "cell_type": "code",
   "id": "initial_id",
   "metadata": {
    "collapsed": true,
    "ExecuteTime": {
     "end_time": "2025-01-28T18:31:11.322782Z",
     "start_time": "2025-01-28T18:31:11.310786Z"
    }
   },
   "source": [
    "## quest 1\n",
    "\n",
    "def amplitude(lst):\n",
    "    x = max(lst) - min(lst)\n",
    "    print(x)\n",
    "\n",
    "lst = [1,2,3,4,5,6,7,8,9,10,11,12,13,14,15]\n",
    "amplitude(lst)"
   ],
   "outputs": [
    {
     "name": "stdout",
     "output_type": "stream",
     "text": [
      "14\n"
     ]
    }
   ],
   "execution_count": 1
  },
  {
   "metadata": {
    "ExecuteTime": {
     "end_time": "2025-01-28T18:32:51.734300Z",
     "start_time": "2025-01-28T18:32:51.722301Z"
    }
   },
   "cell_type": "code",
   "source": [
    "## quest 2\n",
    "def verticalstring(a):\n",
    "    for x in range(len(a)):\n",
    "        print(a[x])\n",
    "\n",
    "verticalstring(\"today\")"
   ],
   "id": "827615066a66a341",
   "outputs": [
    {
     "name": "stdout",
     "output_type": "stream",
     "text": [
      "t\n",
      "o\n",
      "d\n",
      "a\n",
      "y\n"
     ]
    }
   ],
   "execution_count": 3
  },
  {
   "metadata": {
    "ExecuteTime": {
     "end_time": "2025-01-28T18:45:26.163705Z",
     "start_time": "2025-01-28T18:45:26.150705Z"
    }
   },
   "cell_type": "code",
   "source": [
    "## quest 3\n",
    "\n",
    "def weight(a):\n",
    "    if (0 < a <= 10):\n",
    "        print('10 U$D by shipping')\n",
    "    if (10 < a <= 20):\n",
    "        print('80 U$D by shipping')\n",
    "    if (a > 20):\n",
    "        print('not supported')\n",
    "\n",
    "weight(12)"
   ],
   "id": "979c546520af777",
   "outputs": [
    {
     "name": "stdout",
     "output_type": "stream",
     "text": [
      "80 U$D by shipping\n"
     ]
    }
   ],
   "execution_count": 6
  },
  {
   "metadata": {},
   "cell_type": "code",
   "outputs": [],
   "execution_count": null,
   "source": "",
   "id": "d105b4b06189f10b"
  }
 ],
 "metadata": {
  "kernelspec": {
   "display_name": "Python 3",
   "language": "python",
   "name": "python3"
  },
  "language_info": {
   "codemirror_mode": {
    "name": "ipython",
    "version": 2
   },
   "file_extension": ".py",
   "mimetype": "text/x-python",
   "name": "python",
   "nbconvert_exporter": "python",
   "pygments_lexer": "ipython2",
   "version": "2.7.6"
  }
 },
 "nbformat": 4,
 "nbformat_minor": 5
}
