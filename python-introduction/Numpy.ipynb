{
 "cells": [
  {
   "metadata": {},
   "cell_type": "markdown",
   "source": "# Numpy",
   "id": "a325b6f474b55ea2"
  },
  {
   "cell_type": "code",
   "id": "initial_id",
   "metadata": {
    "collapsed": true,
    "ExecuteTime": {
     "end_time": "2025-01-27T18:50:35.767462Z",
     "start_time": "2025-01-27T18:50:35.684815Z"
    }
   },
   "source": [
    "import numpy as np\n",
    "from numpy import dtype"
   ],
   "outputs": [],
   "execution_count": 2
  },
  {
   "metadata": {
    "ExecuteTime": {
     "end_time": "2025-01-24T19:13:50.804596Z",
     "start_time": "2025-01-24T19:13:50.790083Z"
    }
   },
   "cell_type": "code",
   "source": [
    "mt = np.array([[1,2,3],[4,5,6],[7,8,9]])\n",
    "print(mt)\n",
    "print(type(mt))"
   ],
   "id": "3cf48bacd8613c67",
   "outputs": [
    {
     "name": "stdout",
     "output_type": "stream",
     "text": [
      "[[1 2 3]\n",
      " [4 5 6]\n",
      " [7 8 9]]\n",
      "<class 'numpy.ndarray'>\n"
     ]
    }
   ],
   "execution_count": 4
  },
  {
   "metadata": {
    "ExecuteTime": {
     "end_time": "2025-01-24T19:15:47.404789Z",
     "start_time": "2025-01-24T19:15:47.391271Z"
    }
   },
   "cell_type": "code",
   "source": [
    "mtfloat = np.array([1,2,3], dtype = np.float64)\n",
    "print(mtfloat)\n",
    "print(type(mtfloat))\n",
    "\n",
    "mtint = np.array([1,2,3], dtype = np.int32)\n",
    "print(mtint)\n",
    "print(type(mtint))"
   ],
   "id": "bd803ac56087a998",
   "outputs": [
    {
     "name": "stdout",
     "output_type": "stream",
     "text": [
      "[1. 2. 3.]\n",
      "<class 'numpy.ndarray'>\n",
      "[1 2 3]\n",
      "<class 'numpy.ndarray'>\n"
     ]
    }
   ],
   "execution_count": 5
  },
  {
   "metadata": {
    "ExecuteTime": {
     "end_time": "2025-01-24T19:17:36.545750Z",
     "start_time": "2025-01-24T19:17:36.531620Z"
    }
   },
   "cell_type": "code",
   "source": [
    "mtnew = np.array([1.3, 2.4, -3.5, 4.999999999], dtype = np.float64)\n",
    "print(mtnew)\n",
    "\n",
    "mtnewint = mtnew.astype(np.int32)\n",
    "print(mtnewint)"
   ],
   "id": "fdbeff11303907d4",
   "outputs": [
    {
     "name": "stdout",
     "output_type": "stream",
     "text": [
      "[ 1.3  2.4 -3.5  5. ]\n",
      "[ 1  2 -3  4]\n"
     ]
    }
   ],
   "execution_count": 6
  },
  {
   "metadata": {
    "ExecuteTime": {
     "end_time": "2025-01-24T19:19:25.197074Z",
     "start_time": "2025-01-24T19:19:25.182038Z"
    }
   },
   "cell_type": "code",
   "source": [
    "mt5 = np.array([1,2,3])\n",
    "print(mt5)\n",
    "mt6 = mt5.astype(float)\n",
    "print(mt6)"
   ],
   "id": "8de260fcb2191ab7",
   "outputs": [
    {
     "name": "stdout",
     "output_type": "stream",
     "text": [
      "[1 2 3]\n",
      "[1. 2. 3.]\n"
     ]
    }
   ],
   "execution_count": 7
  },
  {
   "metadata": {
    "ExecuteTime": {
     "end_time": "2025-01-24T19:20:39.997870Z",
     "start_time": "2025-01-24T19:20:39.983328Z"
    }
   },
   "cell_type": "code",
   "source": [
    "mt7 = np.array([[1,2,3],[4,5,6],[7,8,9]])\n",
    "print(mt7)"
   ],
   "id": "9b322643d2532069",
   "outputs": [
    {
     "name": "stdout",
     "output_type": "stream",
     "text": [
      "[[1 2 3]\n",
      " [4 5 6]\n",
      " [7 8 9]]\n"
     ]
    }
   ],
   "execution_count": 8
  },
  {
   "metadata": {
    "ExecuteTime": {
     "end_time": "2025-01-24T19:23:03.831387Z",
     "start_time": "2025-01-24T19:23:03.816303Z"
    }
   },
   "cell_type": "code",
   "source": [
    "vazio = np.empty([3,2], dtype = int)\n",
    "print(vazio)\n",
    "print(\"-------\")\n",
    "\n",
    "zeros = np.zeros([4,3])\n",
    "print(zeros)\n",
    "print(\"-------\")\n",
    "\n",
    "um = np.ones([5,7])\n",
    "print(um)\n",
    "print(\"-------\")\n",
    "\n",
    "diagonal = np.eye(5)\n",
    "print(diagonal)"
   ],
   "id": "7b3cbb50736bd209",
   "outputs": [
    {
     "name": "stdout",
     "output_type": "stream",
     "text": [
      "[[0 0]\n",
      " [0 0]\n",
      " [0 0]]\n",
      "-------\n",
      "[[0. 0. 0.]\n",
      " [0. 0. 0.]\n",
      " [0. 0. 0.]\n",
      " [0. 0. 0.]]\n",
      "-------\n",
      "[[1. 1. 1. 1. 1. 1. 1.]\n",
      " [1. 1. 1. 1. 1. 1. 1.]\n",
      " [1. 1. 1. 1. 1. 1. 1.]\n",
      " [1. 1. 1. 1. 1. 1. 1.]\n",
      " [1. 1. 1. 1. 1. 1. 1.]]\n",
      "-------\n",
      "[[1. 0. 0. 0. 0.]\n",
      " [0. 1. 0. 0. 0.]\n",
      " [0. 0. 1. 0. 0.]\n",
      " [0. 0. 0. 1. 0.]\n",
      " [0. 0. 0. 0. 1.]]\n"
     ]
    }
   ],
   "execution_count": 9
  },
  {
   "metadata": {
    "ExecuteTime": {
     "end_time": "2025-01-24T19:26:16.651969Z",
     "start_time": "2025-01-24T19:26:16.622081Z"
    }
   },
   "cell_type": "code",
   "source": [
    "ale = np.random.random((5))\n",
    "print(ale)\n",
    "print(\"-------\")\n",
    "\n",
    "ale2 = np.random.randn((5))\n",
    "print(ale2)\n",
    "print(\"-------\")\n",
    "\n",
    "ale3 = (10*np.random.random((3,4)))\n",
    "print(ale3)"
   ],
   "id": "a0efe3d1d1cd29a5",
   "outputs": [
    {
     "name": "stdout",
     "output_type": "stream",
     "text": [
      "[0.96355451 0.9985946  0.98445548 0.18314074 0.67790368]\n",
      "-------\n",
      "[ 1.02584707  0.85580992  0.15275698 -0.58891806 -0.74323688]\n",
      "-------\n",
      "[[5.47650852 6.01290908 0.3178844  0.6783666 ]\n",
      " [2.22386161 6.4608988  1.80044405 6.07852536]\n",
      " [4.46494031 8.11071348 9.4258738  0.74365849]]\n"
     ]
    }
   ],
   "execution_count": 10
  },
  {
   "metadata": {
    "ExecuteTime": {
     "end_time": "2025-01-24T19:28:40.543728Z",
     "start_time": "2025-01-24T19:28:40.529211Z"
    }
   },
   "cell_type": "code",
   "source": [
    "gnr = np.random.default_rng(1)\n",
    "ale5 = gnr.random(3)\n",
    "print(ale5)\n",
    "\n",
    "ale6 = gnr.integers(10, size=(3,4))\n",
    "print(ale6)"
   ],
   "id": "bf1717fcf54817e2",
   "outputs": [
    {
     "name": "stdout",
     "output_type": "stream",
     "text": [
      "[0.51182162 0.9504637  0.14415961]\n",
      "[[8 9 2 3]\n",
      " [8 4 2 8]\n",
      " [2 4 6 5]]\n"
     ]
    }
   ],
   "execution_count": 11
  },
  {
   "metadata": {
    "ExecuteTime": {
     "end_time": "2025-01-24T19:30:14.912437Z",
     "start_time": "2025-01-24T19:30:14.904920Z"
    }
   },
   "cell_type": "code",
   "source": [
    "j = np.array([11, 11, 12, 13, 14, 11, 15])\n",
    "j = np.unique(j)\n",
    "print(j)"
   ],
   "id": "744bfa28e425eb55",
   "outputs": [
    {
     "name": "stdout",
     "output_type": "stream",
     "text": [
      "[11 12 13 14 15]\n"
     ]
    }
   ],
   "execution_count": 13
  },
  {
   "metadata": {
    "ExecuteTime": {
     "end_time": "2025-01-27T18:21:57.406091Z",
     "start_time": "2025-01-27T18:21:57.393054Z"
    }
   },
   "cell_type": "code",
   "source": [
    "k = np.array([[11,22,33], [55,66,77], [88,99,00]])\n",
    "print(k)\n",
    "print(k[0][1])\n",
    "print(k.shape)"
   ],
   "id": "dcb39cb1f78a2808",
   "outputs": [
    {
     "name": "stdout",
     "output_type": "stream",
     "text": [
      "[[11 22 33]\n",
      " [55 66 77]\n",
      " [88 99  0]]\n",
      "22\n",
      "(3, 3)\n"
     ]
    }
   ],
   "execution_count": 3
  },
  {
   "metadata": {
    "ExecuteTime": {
     "end_time": "2025-01-27T18:23:04.353094Z",
     "start_time": "2025-01-27T18:23:04.338728Z"
    }
   },
   "cell_type": "code",
   "source": [
    "print(k.max())\n",
    "print(k.min())\n",
    "print(k.sum())\n",
    "print(k.mean())\n",
    "print(k.std())"
   ],
   "id": "d9d8eff9da169c1c",
   "outputs": [
    {
     "name": "stdout",
     "output_type": "stream",
     "text": [
      "99\n",
      "0\n",
      "451\n",
      "50.111111111111114\n",
      "33.24803902135331\n"
     ]
    }
   ],
   "execution_count": 4
  },
  {
   "metadata": {
    "ExecuteTime": {
     "end_time": "2025-01-27T18:28:36.084481Z",
     "start_time": "2025-01-27T18:28:36.074482Z"
    }
   },
   "cell_type": "code",
   "source": [
    "k1 = np.array([1, 4, 9, 16, 25, 36])\n",
    "print(np.sqrt(k1))\n",
    "print(np.exp(k1))"
   ],
   "id": "f12ccdcca5f981a2",
   "outputs": [
    {
     "name": "stdout",
     "output_type": "stream",
     "text": [
      "[1. 2. 3. 4. 5. 6.]\n",
      "[2.71828183e+00 5.45981500e+01 8.10308393e+03 8.88611052e+06\n",
      " 7.20048993e+10 4.31123155e+15]\n"
     ]
    }
   ],
   "execution_count": 8
  },
  {
   "metadata": {
    "ExecuteTime": {
     "end_time": "2025-01-27T18:31:35.758852Z",
     "start_time": "2025-01-27T18:31:35.744818Z"
    }
   },
   "cell_type": "code",
   "source": [
    "m = np.array([1, 2, 3, 4, 5, 6, 7, 8, 9])\n",
    "print(m[1])\n",
    "print(\"--------\")\n",
    "\n",
    "print(m[0:2])\n",
    "print(\"--------\")\n",
    "\n",
    "print(m[1:])\n",
    "print(\"--------\")\n",
    "\n",
    "print(m[-3:])"
   ],
   "id": "9e05913cd0f71776",
   "outputs": [
    {
     "name": "stdout",
     "output_type": "stream",
     "text": [
      "2\n",
      "--------\n",
      "[1 2]\n",
      "--------\n",
      "[2 3 4 5 6 7 8 9]\n",
      "--------\n",
      "[7 8 9]\n"
     ]
    }
   ],
   "execution_count": 9
  },
  {
   "metadata": {
    "ExecuteTime": {
     "end_time": "2025-01-27T18:35:06.346705Z",
     "start_time": "2025-01-27T18:35:06.337191Z"
    }
   },
   "cell_type": "code",
   "source": [
    "l = np.array([[1,2],[4,5],[7,8]])\n",
    "print(l)\n",
    "print(\"--------\")\n",
    "\n",
    "l_line_1 = l[0, :]\n",
    "print(l_line_1)\n",
    "print(\"--------\")\n",
    "\n",
    "l_line_2 = l[1, :]\n",
    "print(l_line_2)\n",
    "print(\"--------\")\n",
    "\n",
    "l_line_3 = l[2, :]\n",
    "print(l_line_3)\n",
    "print(\"--------\")\n",
    "\n",
    "l_column_1 = l[: ,0]\n",
    "print(l_column_1)\n",
    "print(\"--------\")\n",
    "\n",
    "l_column_2 = l[: ,1]\n",
    "print(l_column_2)\n",
    "print(\"--------\")"
   ],
   "id": "90d78498b893288c",
   "outputs": [
    {
     "name": "stdout",
     "output_type": "stream",
     "text": [
      "[[1 2]\n",
      " [4 5]\n",
      " [7 8]]\n",
      "--------\n",
      "[1 2]\n",
      "--------\n",
      "[4 5]\n",
      "--------\n",
      "[7 8]\n",
      "--------\n",
      "[1 4 7]\n",
      "--------\n",
      "[2 5 8]\n",
      "--------\n"
     ]
    }
   ],
   "execution_count": 10
  },
  {
   "metadata": {
    "ExecuteTime": {
     "end_time": "2025-01-27T18:50:40.183397Z",
     "start_time": "2025-01-27T18:50:40.163236Z"
    }
   },
   "cell_type": "code",
   "source": [
    "n = np.array([[1,2], [3,4]])\n",
    "o = np.array([[1,1], [1,1]])\n",
    "rest1 = n + o\n",
    "print(rest1)\n",
    "print(\"--------\")\n",
    "\n",
    "rest2 = n * o\n",
    "print(rest2)\n",
    "print(\"--------\")\n",
    "\n",
    "p = np.array([[1,2], [3,4], [5,6]])\n",
    "q = np.array([[2,1]])\n",
    "print(p*q)"
   ],
   "id": "1efefe63ea592e7a",
   "outputs": [
    {
     "name": "stdout",
     "output_type": "stream",
     "text": [
      "[[2 3]\n",
      " [4 5]]\n",
      "--------\n",
      "[[1 2]\n",
      " [3 4]]\n",
      "--------\n",
      "[[ 2  2]\n",
      " [ 6  4]\n",
      " [10  6]]\n"
     ]
    }
   ],
   "execution_count": 3
  },
  {
   "metadata": {
    "ExecuteTime": {
     "end_time": "2025-01-27T18:52:02.549753Z",
     "start_time": "2025-01-27T18:52:02.535996Z"
    }
   },
   "cell_type": "code",
   "source": [
    "f = np.arange(15).reshape((3, 5))\n",
    "print(f)\n",
    "print(\"--------\")\n",
    "s = f.T\n",
    "print(s)"
   ],
   "id": "921bee80fe29b640",
   "outputs": [
    {
     "name": "stdout",
     "output_type": "stream",
     "text": [
      "[[ 0  1  2  3  4]\n",
      " [ 5  6  7  8  9]\n",
      " [10 11 12 13 14]]\n",
      "--------\n",
      "[[ 0  5 10]\n",
      " [ 1  6 11]\n",
      " [ 2  7 12]\n",
      " [ 3  8 13]\n",
      " [ 4  9 14]]\n"
     ]
    }
   ],
   "execution_count": 4
  },
  {
   "metadata": {
    "ExecuteTime": {
     "end_time": "2025-01-27T18:53:45.472084Z",
     "start_time": "2025-01-27T18:53:45.457569Z"
    }
   },
   "cell_type": "code",
   "source": [
    "r = np.arange(15).reshape((3, 5))\n",
    "print(r)\n",
    "print(\"--------\")\n",
    "\n",
    "s = r.transpose((1,0))\n",
    "print(s)"
   ],
   "id": "f54de8aeb89786aa",
   "outputs": [
    {
     "name": "stdout",
     "output_type": "stream",
     "text": [
      "[[ 0  1  2  3  4]\n",
      " [ 5  6  7  8  9]\n",
      " [10 11 12 13 14]]\n",
      "--------\n",
      "[[ 0  5 10]\n",
      " [ 1  6 11]\n",
      " [ 2  7 12]\n",
      " [ 3  8 13]\n",
      " [ 4  9 14]]\n"
     ]
    }
   ],
   "execution_count": 5
  },
  {
   "metadata": {
    "ExecuteTime": {
     "end_time": "2025-01-27T18:55:45.664818Z",
     "start_time": "2025-01-27T18:55:45.508803Z"
    }
   },
   "cell_type": "code",
   "source": [
    "v = np.random.randn(4,4)\n",
    "print(v)\n",
    "\n",
    "x = (v > 0)\n",
    "print(x)\n",
    "\n",
    "z = np.where(x > 0, 1, -1)\n",
    "print(z)"
   ],
   "id": "839662f3d29335dd",
   "outputs": [
    {
     "name": "stdout",
     "output_type": "stream",
     "text": [
      "[[ 0.44521988 -1.13506873  1.06455138  0.41641477]\n",
      " [-0.12551529  1.17599101  2.78751312  0.85882242]\n",
      " [ 0.03591693  1.61640754  0.70956447 -0.46198867]\n",
      " [ 0.12874614  0.57322607 -0.5257471   0.57874835]]\n",
      "[[ True False  True  True]\n",
      " [False  True  True  True]\n",
      " [ True  True  True False]\n",
      " [ True  True False  True]]\n",
      "[[ 1 -1  1  1]\n",
      " [-1  1  1  1]\n",
      " [ 1  1  1 -1]\n",
      " [ 1  1 -1  1]]\n"
     ]
    }
   ],
   "execution_count": 6
  },
  {
   "metadata": {},
   "cell_type": "code",
   "outputs": [],
   "execution_count": null,
   "source": "",
   "id": "5e6319fcff393684"
  }
 ],
 "metadata": {
  "kernelspec": {
   "display_name": "Python 3",
   "language": "python",
   "name": "python3"
  },
  "language_info": {
   "codemirror_mode": {
    "name": "ipython",
    "version": 2
   },
   "file_extension": ".py",
   "mimetype": "text/x-python",
   "name": "python",
   "nbconvert_exporter": "python",
   "pygments_lexer": "ipython2",
   "version": "2.7.6"
  }
 },
 "nbformat": 4,
 "nbformat_minor": 5
}
