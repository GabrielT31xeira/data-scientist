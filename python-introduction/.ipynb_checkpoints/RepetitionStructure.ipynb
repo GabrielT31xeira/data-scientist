{
 "cells": [
  {
   "metadata": {},
   "cell_type": "markdown",
   "source": "# Repetition Structure",
   "id": "dec3b395456cdc98"
  },
  {
   "cell_type": "code",
   "id": "initial_id",
   "metadata": {
    "collapsed": true,
    "ExecuteTime": {
     "end_time": "2025-01-23T18:33:01.055481Z",
     "start_time": "2025-01-23T18:33:01.046079Z"
    }
   },
   "source": [
    "# while example\n",
    "count = 1\n",
    "while count < 10:\n",
    "    print(count)\n",
    "    count += 1"
   ],
   "outputs": [
    {
     "name": "stdout",
     "output_type": "stream",
     "text": [
      "1\n",
      "2\n",
      "3\n",
      "4\n",
      "5\n",
      "6\n",
      "7\n",
      "8\n",
      "9\n"
     ]
    }
   ],
   "execution_count": 1
  },
  {
   "metadata": {
    "ExecuteTime": {
     "end_time": "2025-01-23T18:33:57.470091Z",
     "start_time": "2025-01-23T18:33:57.455060Z"
    }
   },
   "cell_type": "code",
   "source": [
    "for i in range(0, 10):\n",
    "    print(i+1)\n",
    "\n",
    "for i in range(1, 11):\n",
    "    print(i)"
   ],
   "id": "a5f808a7c4f74d36",
   "outputs": [
    {
     "name": "stdout",
     "output_type": "stream",
     "text": [
      "1\n",
      "2\n",
      "3\n",
      "4\n",
      "5\n",
      "6\n",
      "7\n",
      "8\n",
      "9\n",
      "10\n",
      "1\n",
      "2\n",
      "3\n",
      "4\n",
      "5\n",
      "6\n",
      "7\n",
      "8\n",
      "9\n",
      "10\n"
     ]
    }
   ],
   "execution_count": 2
  },
  {
   "metadata": {
    "ExecuteTime": {
     "end_time": "2025-01-23T18:34:33.944446Z",
     "start_time": "2025-01-23T18:34:33.929934Z"
    }
   },
   "cell_type": "code",
   "source": [
    "for i in range(11, 0, -1):\n",
    "    print(i)"
   ],
   "id": "cd6f25728bfe3902",
   "outputs": [
    {
     "name": "stdout",
     "output_type": "stream",
     "text": [
      "11\n",
      "10\n",
      "9\n",
      "8\n",
      "7\n",
      "6\n",
      "5\n",
      "4\n",
      "3\n",
      "2\n",
      "1\n"
     ]
    }
   ],
   "execution_count": 3
  },
  {
   "metadata": {
    "ExecuteTime": {
     "end_time": "2025-01-23T18:35:38.699837Z",
     "start_time": "2025-01-23T18:35:38.687320Z"
    }
   },
   "cell_type": "code",
   "source": [
    "# Break example\n",
    "for i in range(1, 11):\n",
    "    if i == 4:\n",
    "        break\n",
    "    print(i)"
   ],
   "id": "417e633eddc101c8",
   "outputs": [
    {
     "name": "stdout",
     "output_type": "stream",
     "text": [
      "1\n",
      "2\n",
      "3\n"
     ]
    }
   ],
   "execution_count": 4
  },
  {
   "metadata": {
    "ExecuteTime": {
     "end_time": "2025-01-23T18:36:10.349555Z",
     "start_time": "2025-01-23T18:36:10.335578Z"
    }
   },
   "cell_type": "code",
   "source": [
    "# Continue example\n",
    "for i in range(1, 11):\n",
    "    if i == 4:\n",
    "        continue\n",
    "    print(i)"
   ],
   "id": "29779112abfabb41",
   "outputs": [
    {
     "name": "stdout",
     "output_type": "stream",
     "text": [
      "1\n",
      "2\n",
      "3\n",
      "5\n",
      "6\n",
      "7\n",
      "8\n",
      "9\n",
      "10\n"
     ]
    }
   ],
   "execution_count": 5
  },
  {
   "metadata": {},
   "cell_type": "code",
   "outputs": [],
   "execution_count": null,
   "source": "",
   "id": "5b3f6d4c361b3667"
  }
 ],
 "metadata": {
  "kernelspec": {
   "display_name": "Python 3",
   "language": "python",
   "name": "python3"
  },
  "language_info": {
   "codemirror_mode": {
    "name": "ipython",
    "version": 2
   },
   "file_extension": ".py",
   "mimetype": "text/x-python",
   "name": "python",
   "nbconvert_exporter": "python",
   "pygments_lexer": "ipython2",
   "version": "2.7.6"
  }
 },
 "nbformat": 4,
 "nbformat_minor": 5
}
