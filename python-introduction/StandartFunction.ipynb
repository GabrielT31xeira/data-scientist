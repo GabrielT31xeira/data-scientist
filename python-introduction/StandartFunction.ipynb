{
 "cells": [
  {
   "metadata": {},
   "cell_type": "markdown",
   "source": "# Standart Function",
   "id": "119419b9fd785ce4"
  },
  {
   "cell_type": "code",
   "id": "initial_id",
   "metadata": {
    "collapsed": true,
    "ExecuteTime": {
     "end_time": "2025-01-28T18:06:07.627167Z",
     "start_time": "2025-01-28T18:06:07.618165Z"
    }
   },
   "source": [
    "import random\n",
    "\n",
    "print(abs(-200))\n",
    "lts = [1,2,30,30,45]\n",
    "print(max(lts))\n",
    "print(min(lts))\n",
    "print(sum(lts))\n",
    "print(round(3.14))"
   ],
   "outputs": [
    {
     "name": "stdout",
     "output_type": "stream",
     "text": [
      "200\n",
      "45\n",
      "1\n",
      "108\n",
      "3\n"
     ]
    }
   ],
   "execution_count": 1
  },
  {
   "metadata": {
    "ExecuteTime": {
     "end_time": "2025-01-28T18:06:40.177827Z",
     "start_time": "2025-01-28T18:06:40.163826Z"
    }
   },
   "cell_type": "code",
   "source": [
    "from statistics import *\n",
    "print(mean(lts))\n",
    "print(median(lts))\n",
    "print(mode(lts))"
   ],
   "id": "b84e1b31c0c40fa4",
   "outputs": [
    {
     "name": "stdout",
     "output_type": "stream",
     "text": [
      "21.6\n",
      "30\n",
      "30\n"
     ]
    }
   ],
   "execution_count": 2
  },
  {
   "metadata": {
    "ExecuteTime": {
     "end_time": "2025-01-28T18:06:54.072571Z",
     "start_time": "2025-01-28T18:06:54.058567Z"
    }
   },
   "cell_type": "code",
   "source": "print(stdev(lts))",
   "id": "17e2cccbc8f2a0f",
   "outputs": [
    {
     "name": "stdout",
     "output_type": "stream",
     "text": [
      "19.346834366376324\n"
     ]
    }
   ],
   "execution_count": 3
  },
  {
   "metadata": {
    "ExecuteTime": {
     "end_time": "2025-01-28T18:07:01.066100Z",
     "start_time": "2025-01-28T18:07:01.051106Z"
    }
   },
   "cell_type": "code",
   "source": "print(variance(lts))",
   "id": "4834a896e252f33e",
   "outputs": [
    {
     "name": "stdout",
     "output_type": "stream",
     "text": [
      "374.3\n"
     ]
    }
   ],
   "execution_count": 4
  },
  {
   "metadata": {
    "ExecuteTime": {
     "end_time": "2025-01-28T18:07:55.489314Z",
     "start_time": "2025-01-28T18:07:54.976316Z"
    }
   },
   "cell_type": "code",
   "source": [
    "from numpy import *\n",
    "a = random.random((8,8))\n",
    "print(type(a))\n",
    "print(a)"
   ],
   "id": "b755223273cd904",
   "outputs": [
    {
     "name": "stdout",
     "output_type": "stream",
     "text": [
      "<class 'numpy.ndarray'>\n",
      "[[0.91658107 0.04511522 0.66521445 0.46181651 0.17484577 0.6380783\n",
      "  0.99968695 0.43677426]\n",
      " [0.0073505  0.95026958 0.96950701 0.29167338 0.73833415 0.17460987\n",
      "  0.78375886 0.82979018]\n",
      " [0.20449839 0.89884361 0.27006738 0.73797681 0.75076724 0.54672808\n",
      "  0.62321119 0.52522127]\n",
      " [0.47662309 0.59889992 0.52544612 0.107534   0.8965338  0.31734283\n",
      "  0.38720505 0.86086154]\n",
      " [0.29010398 0.33794972 0.93171704 0.18721654 0.93963317 0.32868913\n",
      "  0.46093615 0.98461884]\n",
      " [0.74988127 0.02012093 0.44545541 0.28290087 0.06944603 0.72776374\n",
      "  0.40189352 0.16770609]\n",
      " [0.33966611 0.4297317  0.23832212 0.38050592 0.44441107 0.20566443\n",
      "  0.91391933 0.6081859 ]\n",
      " [0.14855741 0.61564036 0.9652003  0.65594227 0.22254221 0.18941357\n",
      "  0.51293806 0.94558153]]\n"
     ]
    }
   ],
   "execution_count": 5
  },
  {
   "metadata": {},
   "cell_type": "code",
   "outputs": [],
   "execution_count": null,
   "source": "",
   "id": "8f00cf380f43fc7c"
  }
 ],
 "metadata": {
  "kernelspec": {
   "display_name": "Python 3",
   "language": "python",
   "name": "python3"
  },
  "language_info": {
   "codemirror_mode": {
    "name": "ipython",
    "version": 2
   },
   "file_extension": ".py",
   "mimetype": "text/x-python",
   "name": "python",
   "nbconvert_exporter": "python",
   "pygments_lexer": "ipython2",
   "version": "2.7.6"
  }
 },
 "nbformat": 4,
 "nbformat_minor": 5
}
