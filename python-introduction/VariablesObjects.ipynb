{
 "cells": [
  {
   "cell_type": "raw",
   "id": "c1aece7a8c77ca34",
   "metadata": {},
   "source": [
    "## Variables and objects"
   ]
  },
  {
   "cell_type": "code",
   "execution_count": 3,
   "id": "c398fd1e65facfda",
   "metadata": {
    "ExecuteTime": {
     "end_time": "2025-01-23T18:21:14.247806Z",
     "start_time": "2025-01-23T18:21:14.234773Z"
    }
   },
   "outputs": [
    {
     "name": "stdout",
     "output_type": "stream",
     "text": [
      "1\n",
      "3.13\n",
      "python\n",
      "True\n",
      "False\n"
     ]
    }
   ],
   "source": [
    "# int type\n",
    "x = 1\n",
    "print(x)\n",
    "\n",
    "# float type\n",
    "y =3.13\n",
    "print(y)\n",
    "\n",
    "# string type\n",
    "m = 'python'\n",
    "print(m)\n",
    "\n",
    "# boolean type\n",
    "t = True\n",
    "f = False\n",
    "print(t)\n",
    "print(f)"
   ]
  },
  {
   "cell_type": "code",
   "execution_count": 4,
   "id": "1b3bb3ff12d687a5",
   "metadata": {
    "ExecuteTime": {
     "end_time": "2025-01-23T18:22:26.512864Z",
     "start_time": "2025-01-23T18:22:26.498350Z"
    }
   },
   "outputs": [
    {
     "name": "stdout",
     "output_type": "stream",
     "text": [
      "30.0\n"
     ]
    }
   ],
   "source": [
    "# calculator\n",
    "x = 10\n",
    "y = 20\n",
    "z = 100\n",
    "w = (x + y) * z / 100\n",
    "print(w)"
   ]
  },
  {
   "cell_type": "code",
   "execution_count": 5,
   "id": "8bf924004ae6d89e",
   "metadata": {
    "ExecuteTime": {
     "end_time": "2025-01-23T18:24:09.844606Z",
     "start_time": "2025-01-23T18:24:09.829510Z"
    }
   },
   "outputs": [
    {
     "name": "stdout",
     "output_type": "stream",
     "text": [
      "text in python\n"
     ]
    }
   ],
   "source": [
    "# text exhibition\n",
    "print(\"text in python\")"
   ]
  },
  {
   "cell_type": "code",
   "execution_count": 9,
   "id": "2362709309b94ea1",
   "metadata": {
    "ExecuteTime": {
     "end_time": "2025-01-23T18:27:02.142493Z",
     "start_time": "2025-01-23T18:26:59.516986Z"
    }
   },
   "outputs": [
    {
     "name": "stdout",
     "output_type": "stream",
     "text": [
      "Insert a value:\n",
      "<class 'str'>\n",
      "wqe\n"
     ]
    }
   ],
   "source": [
    "print(\"Insert a value:\")\n",
    "i = input()\n",
    "print(type(i))\n",
    "print(i)"
   ]
  },
  {
   "cell_type": "code",
   "execution_count": 10,
   "id": "24ef4e66ca7e182a",
   "metadata": {
    "ExecuteTime": {
     "end_time": "2025-01-23T18:27:27.571009Z",
     "start_time": "2025-01-23T18:27:24.015694Z"
    }
   },
   "outputs": [
    {
     "name": "stdout",
     "output_type": "stream",
     "text": [
      "Insert a value:\n",
      "<class 'str'>\n",
      "2 <class 'int'>\n"
     ]
    }
   ],
   "source": [
    "# convert to int\n",
    "print(\"Insert a value:\")\n",
    "i = input()\n",
    "print(type(i))\n",
    "var = int(i)\n",
    "print(var, type(var))"
   ]
  },
  {
   "cell_type": "code",
   "execution_count": 11,
   "id": "6ca4bb06231f078b",
   "metadata": {
    "ExecuteTime": {
     "end_time": "2025-01-23T18:27:31.810114Z",
     "start_time": "2025-01-23T18:27:29.998355Z"
    }
   },
   "outputs": [
    {
     "name": "stdout",
     "output_type": "stream",
     "text": [
      "Insert a value:\n",
      "<class 'str'>\n",
      "23.0 <class 'float'>\n"
     ]
    }
   ],
   "source": [
    "# convert to float\n",
    "print(\"Insert a value:\")\n",
    "i = input()\n",
    "print(type(i))\n",
    "var = float(i)\n",
    "print(var, type(var))"
   ]
  }
 ],
 "metadata": {
  "kernelspec": {
   "display_name": "Python 3 (ipykernel)",
   "language": "python",
   "name": "python3"
  },
  "language_info": {
   "codemirror_mode": {
    "name": "ipython",
    "version": 3
   },
   "file_extension": ".py",
   "mimetype": "text/x-python",
   "name": "python",
   "nbconvert_exporter": "python",
   "pygments_lexer": "ipython3",
   "version": "3.9.13"
  }
 },
 "nbformat": 4,
 "nbformat_minor": 5
}
