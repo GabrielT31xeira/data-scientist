{
 "cells": [
  {
   "metadata": {},
   "cell_type": "markdown",
   "source": "# Function",
   "id": "94cf3e5beec0d3eb"
  },
  {
   "metadata": {
    "ExecuteTime": {
     "end_time": "2025-01-27T21:35:16.185577Z",
     "start_time": "2025-01-27T21:35:16.171577Z"
    }
   },
   "cell_type": "code",
   "source": [
    "def printfunction(x):\n",
    "    print(\"Thats a function\", x)\n",
    "\n",
    "printfunction(2)"
   ],
   "id": "9cbb09eebb5af6c3",
   "outputs": [
    {
     "name": "stdout",
     "output_type": "stream",
     "text": [
      "Thats a function 2\n"
     ]
    }
   ],
   "execution_count": 12
  },
  {
   "metadata": {
    "ExecuteTime": {
     "end_time": "2025-01-28T18:00:43.172575Z",
     "start_time": "2025-01-28T18:00:43.161064Z"
    }
   },
   "cell_type": "code",
   "source": [
    "def calculate(a):\n",
    "    return a + a\n",
    "print(calculate(2))"
   ],
   "id": "d39a727bb0dfaada",
   "outputs": [
    {
     "name": "stdout",
     "output_type": "stream",
     "text": [
      "4\n"
     ]
    }
   ],
   "execution_count": 1
  },
  {
   "metadata": {
    "ExecuteTime": {
     "end_time": "2025-01-28T18:02:06.291977Z",
     "start_time": "2025-01-28T18:02:06.278423Z"
    }
   },
   "cell_type": "code",
   "source": [
    "def interval(ini=1, fim=10):\n",
    "    for ini in range(ini, fim, 1):\n",
    "        print(ini)\n",
    "\n",
    "x = interval(1, 10)\n",
    "print(x)\n",
    "y = interval()\n",
    "print(y)"
   ],
   "id": "d36c61e73c2f847d",
   "outputs": [
    {
     "name": "stdout",
     "output_type": "stream",
     "text": [
      "1\n",
      "2\n",
      "3\n",
      "4\n",
      "5\n",
      "6\n",
      "7\n",
      "8\n",
      "9\n",
      "None\n",
      "1\n",
      "2\n",
      "3\n",
      "4\n",
      "5\n",
      "6\n",
      "7\n",
      "8\n",
      "9\n",
      "None\n"
     ]
    }
   ],
   "execution_count": 2
  },
  {
   "metadata": {},
   "cell_type": "code",
   "outputs": [],
   "execution_count": null,
   "source": "",
   "id": "5fc5a985aefd048e"
  }
 ],
 "metadata": {
  "kernelspec": {
   "display_name": "Python 3",
   "language": "python",
   "name": "python3"
  },
  "language_info": {
   "codemirror_mode": {
    "name": "ipython",
    "version": 2
   },
   "file_extension": ".py",
   "mimetype": "text/x-python",
   "name": "python",
   "nbconvert_exporter": "python",
   "pygments_lexer": "ipython2",
   "version": "2.7.6"
  }
 },
 "nbformat": 4,
 "nbformat_minor": 5
}
