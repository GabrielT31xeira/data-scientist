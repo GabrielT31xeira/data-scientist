{
 "cells": [
  {
   "metadata": {},
   "cell_type": "markdown",
   "source": "# Lists",
   "id": "3db40b5f762d65f"
  },
  {
   "cell_type": "code",
   "id": "initial_id",
   "metadata": {
    "collapsed": true,
    "ExecuteTime": {
     "end_time": "2025-01-24T18:40:06.551863Z",
     "start_time": "2025-01-24T18:40:06.529242Z"
    }
   },
   "source": [
    "lst = [1, 2, 3]\n",
    "print(lst)"
   ],
   "outputs": [
    {
     "name": "stdout",
     "output_type": "stream",
     "text": [
      "[1, 2, 3]\n"
     ]
    }
   ],
   "execution_count": 1
  },
  {
   "metadata": {
    "ExecuteTime": {
     "end_time": "2025-01-24T18:41:16.119392Z",
     "start_time": "2025-01-24T18:41:16.104400Z"
    }
   },
   "cell_type": "code",
   "source": [
    "lst2 = [1, 2, 3, \"ex\", True]\n",
    "print(lst2)"
   ],
   "id": "cf9cfe1cbcdf4460",
   "outputs": [
    {
     "name": "stdout",
     "output_type": "stream",
     "text": [
      "[1, 2, 3, 'ex', True]\n"
     ]
    }
   ],
   "execution_count": 2
  },
  {
   "metadata": {
    "ExecuteTime": {
     "end_time": "2025-01-24T18:41:33.088851Z",
     "start_time": "2025-01-24T18:41:33.075650Z"
    }
   },
   "cell_type": "code",
   "source": [
    "lst3 = [1, 2, 3, [1,2,3]]\n",
    "print(lst3)"
   ],
   "id": "9b0a934f25229d46",
   "outputs": [
    {
     "name": "stdout",
     "output_type": "stream",
     "text": [
      "[1, 2, 3, [1, 2, 3]]\n"
     ]
    }
   ],
   "execution_count": 3
  },
  {
   "metadata": {
    "ExecuteTime": {
     "end_time": "2025-01-24T18:42:08.334013Z",
     "start_time": "2025-01-24T18:42:08.319501Z"
    }
   },
   "cell_type": "code",
   "source": [
    "lst4 = list(range(0, 10))\n",
    "print(lst4)"
   ],
   "id": "1a93e41e96677884",
   "outputs": [
    {
     "name": "stdout",
     "output_type": "stream",
     "text": [
      "[0, 1, 2, 3, 4, 5, 6, 7, 8, 9]\n"
     ]
    }
   ],
   "execution_count": 4
  },
  {
   "metadata": {
    "ExecuteTime": {
     "end_time": "2025-01-24T18:42:36.291590Z",
     "start_time": "2025-01-24T18:42:36.276815Z"
    }
   },
   "cell_type": "code",
   "source": "print(len(lst4))",
   "id": "a97af6ca8b0b9e41",
   "outputs": [
    {
     "name": "stdout",
     "output_type": "stream",
     "text": [
      "10\n"
     ]
    }
   ],
   "execution_count": 5
  },
  {
   "metadata": {
    "ExecuteTime": {
     "end_time": "2025-01-24T18:46:46.662703Z",
     "start_time": "2025-01-24T18:46:46.648670Z"
    }
   },
   "cell_type": "code",
   "source": [
    "print(lst4[0])\n",
    "print(lst3[1])\n",
    "lst[0] = 10\n",
    "print(lst)"
   ],
   "id": "e4c08d1c52edcd5",
   "outputs": [
    {
     "name": "stdout",
     "output_type": "stream",
     "text": [
      "0\n",
      "2\n",
      "[10, 2, 3]\n"
     ]
    }
   ],
   "execution_count": 6
  },
  {
   "metadata": {
    "ExecuteTime": {
     "end_time": "2025-01-24T18:54:38.084014Z",
     "start_time": "2025-01-24T18:54:38.069986Z"
    }
   },
   "cell_type": "code",
   "source": [
    "for n in range(0, len(lst4)):\n",
    "    print(lst4[n] + 1)"
   ],
   "id": "24b9edaf1ca9f3be",
   "outputs": [
    {
     "name": "stdout",
     "output_type": "stream",
     "text": [
      "1\n",
      "2\n",
      "3\n",
      "4\n",
      "5\n",
      "6\n",
      "7\n",
      "8\n",
      "9\n",
      "10\n"
     ]
    }
   ],
   "execution_count": 7
  },
  {
   "metadata": {},
   "cell_type": "code",
   "outputs": [],
   "execution_count": null,
   "source": "",
   "id": "7ca74368dfa7c213"
  }
 ],
 "metadata": {
  "kernelspec": {
   "display_name": "Python 3",
   "language": "python",
   "name": "python3"
  },
  "language_info": {
   "codemirror_mode": {
    "name": "ipython",
    "version": 2
   },
   "file_extension": ".py",
   "mimetype": "text/x-python",
   "name": "python",
   "nbconvert_exporter": "python",
   "pygments_lexer": "ipython2",
   "version": "2.7.6"
  }
 },
 "nbformat": 4,
 "nbformat_minor": 5
}
