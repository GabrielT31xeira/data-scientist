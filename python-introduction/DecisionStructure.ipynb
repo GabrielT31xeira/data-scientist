{
 "cells": [
  {
   "metadata": {},
   "cell_type": "markdown",
   "source": "# Descison Estructure",
   "id": "a9278dc6902173ab"
  },
  {
   "cell_type": "code",
   "id": "initial_id",
   "metadata": {
    "collapsed": true,
    "ExecuteTime": {
     "end_time": "2025-01-23T18:30:23.393577Z",
     "start_time": "2025-01-23T18:30:23.380046Z"
    }
   },
   "source": [
    "note = 7\n",
    "if note >= 7:\n",
    "    print(\"Approved\")\n",
    "else:\n",
    "    print(\"Reproved\")"
   ],
   "outputs": [
    {
     "name": "stdout",
     "output_type": "stream",
     "text": [
      "Approved\n"
     ]
    }
   ],
   "execution_count": 2
  },
  {
   "metadata": {
    "ExecuteTime": {
     "end_time": "2025-01-23T18:30:25.082076Z",
     "start_time": "2025-01-23T18:30:25.067822Z"
    }
   },
   "cell_type": "code",
   "source": [
    "note = 5\n",
    "if note >= 7:\n",
    "    print(\"Approved\")\n",
    "else:\n",
    "    print(\"Reproved\")"
   ],
   "id": "350f992f96299e52",
   "outputs": [
    {
     "name": "stdout",
     "output_type": "stream",
     "text": [
      "Reproved\n"
     ]
    }
   ],
   "execution_count": 3
  },
  {
   "metadata": {
    "ExecuteTime": {
     "end_time": "2025-01-23T18:31:39.570262Z",
     "start_time": "2025-01-23T18:31:39.556052Z"
    }
   },
   "cell_type": "code",
   "source": [
    "note = 5\n",
    "if note >= 7:\n",
    "    print(\"Approved\")\n",
    "\n",
    "elif 5 <= note < 7:\n",
    "    print(\"Exam\")\n",
    "\n",
    "else:\n",
    "    print(\"Reproved\")"
   ],
   "id": "25bc8341e91cd7a3",
   "outputs": [
    {
     "name": "stdout",
     "output_type": "stream",
     "text": [
      "Exam\n"
     ]
    }
   ],
   "execution_count": 4
  },
  {
   "metadata": {},
   "cell_type": "code",
   "outputs": [],
   "execution_count": null,
   "source": "",
   "id": "23982f5a012157d7"
  }
 ],
 "metadata": {
  "kernelspec": {
   "display_name": "Python 3",
   "language": "python",
   "name": "python3"
  },
  "language_info": {
   "codemirror_mode": {
    "name": "ipython",
    "version": 2
   },
   "file_extension": ".py",
   "mimetype": "text/x-python",
   "name": "python",
   "nbconvert_exporter": "python",
   "pygments_lexer": "ipython2",
   "version": "2.7.6"
  }
 },
 "nbformat": 4,
 "nbformat_minor": 5
}
