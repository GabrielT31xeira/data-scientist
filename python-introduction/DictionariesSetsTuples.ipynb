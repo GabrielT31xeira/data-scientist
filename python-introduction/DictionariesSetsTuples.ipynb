{
 "cells": [
  {
   "metadata": {},
   "cell_type": "markdown",
   "source": "# Dictionaries, sets, and tuples",
   "id": "84beb1bd8d754e4b"
  },
  {
   "cell_type": "code",
   "id": "initial_id",
   "metadata": {
    "collapsed": true,
    "ExecuteTime": {
     "end_time": "2025-01-24T19:03:34.286086Z",
     "start_time": "2025-01-24T19:03:34.263460Z"
    }
   },
   "source": [
    "note = {'Jõao': 6.0, 'Maria': 10, 'Lucas': 6.5}\n",
    "print(note)"
   ],
   "outputs": [
    {
     "name": "stdout",
     "output_type": "stream",
     "text": [
      "{'Jõao': 6.0, 'Maria': 10, 'Lucas': 6.5}\n"
     ]
    }
   ],
   "execution_count": 1
  },
  {
   "metadata": {
    "ExecuteTime": {
     "end_time": "2025-01-24T19:03:45.549037Z",
     "start_time": "2025-01-24T19:03:45.534499Z"
    }
   },
   "cell_type": "code",
   "source": "print(note['Lucas'])",
   "id": "fe90f9a01cc0fcdd",
   "outputs": [
    {
     "name": "stdout",
     "output_type": "stream",
     "text": [
      "6.5\n"
     ]
    }
   ],
   "execution_count": 2
  },
  {
   "metadata": {
    "ExecuteTime": {
     "end_time": "2025-01-24T19:03:57.224868Z",
     "start_time": "2025-01-24T19:03:57.210355Z"
    }
   },
   "cell_type": "code",
   "source": "note.keys()",
   "id": "58cd1a0a96d0cd99",
   "outputs": [
    {
     "data": {
      "text/plain": [
       "dict_keys(['Jõao', 'Maria', 'Lucas'])"
      ]
     },
     "execution_count": 3,
     "metadata": {},
     "output_type": "execute_result"
    }
   ],
   "execution_count": 3
  },
  {
   "metadata": {
    "ExecuteTime": {
     "end_time": "2025-01-24T19:04:04.487248Z",
     "start_time": "2025-01-24T19:04:04.472217Z"
    }
   },
   "cell_type": "code",
   "source": "note.values()",
   "id": "afcec2e9b4cfa595",
   "outputs": [
    {
     "data": {
      "text/plain": [
       "dict_values([6.0, 10, 6.5])"
      ]
     },
     "execution_count": 4,
     "metadata": {},
     "output_type": "execute_result"
    }
   ],
   "execution_count": 4
  },
  {
   "metadata": {
    "ExecuteTime": {
     "end_time": "2025-01-24T19:04:48.904258Z",
     "start_time": "2025-01-24T19:04:48.889689Z"
    }
   },
   "cell_type": "code",
   "source": [
    "print('Lucas' in note)\n",
    "print('ASD' in note)"
   ],
   "id": "295057184168ede6",
   "outputs": [
    {
     "name": "stdout",
     "output_type": "stream",
     "text": [
      "True\n",
      "False\n"
     ]
    }
   ],
   "execution_count": 5
  },
  {
   "metadata": {
    "ExecuteTime": {
     "end_time": "2025-01-24T19:05:02.191431Z",
     "start_time": "2025-01-24T19:05:02.176914Z"
    }
   },
   "cell_type": "code",
   "source": [
    "del note['Lucas']\n",
    "print(note)"
   ],
   "id": "d5a5a694b8ebfdf9",
   "outputs": [
    {
     "name": "stdout",
     "output_type": "stream",
     "text": [
      "{'Jõao': 6.0, 'Maria': 10}\n"
     ]
    }
   ],
   "execution_count": 6
  },
  {
   "metadata": {
    "ExecuteTime": {
     "end_time": "2025-01-24T19:05:20.186795Z",
     "start_time": "2025-01-24T19:05:20.171761Z"
    }
   },
   "cell_type": "code",
   "source": [
    "note['Ana'] = 10\n",
    "print(note)"
   ],
   "id": "9b67b47d6aaf78bb",
   "outputs": [
    {
     "name": "stdout",
     "output_type": "stream",
     "text": [
      "{'Jõao': 6.0, 'Maria': 10, 'Ana': 10}\n"
     ]
    }
   ],
   "execution_count": 7
  },
  {
   "metadata": {
    "ExecuteTime": {
     "end_time": "2025-01-24T19:05:43.283010Z",
     "start_time": "2025-01-24T19:05:43.268489Z"
    }
   },
   "cell_type": "code",
   "source": "note.get('Asd', \"not found\")",
   "id": "7fc2d7bcab91437c",
   "outputs": [
    {
     "data": {
      "text/plain": [
       "'not found'"
      ]
     },
     "execution_count": 8,
     "metadata": {},
     "output_type": "execute_result"
    }
   ],
   "execution_count": 8
  },
  {
   "metadata": {
    "ExecuteTime": {
     "end_time": "2025-01-24T19:06:19.714004Z",
     "start_time": "2025-01-24T19:06:19.699490Z"
    }
   },
   "cell_type": "code",
   "source": [
    "bigdata = {'Spark', 'Test', 'Asd'}\n",
    "print(bigdata)"
   ],
   "id": "24f468e2b91d18c6",
   "outputs": [
    {
     "name": "stdout",
     "output_type": "stream",
     "text": [
      "{'Spark', 'Test', 'Asd'}\n"
     ]
    }
   ],
   "execution_count": 9
  },
  {
   "metadata": {
    "ExecuteTime": {
     "end_time": "2025-01-24T19:06:37.476644Z",
     "start_time": "2025-01-24T19:06:37.461622Z"
    }
   },
   "cell_type": "code",
   "source": "print('Spark' in bigdata)",
   "id": "d56065b2625367b6",
   "outputs": [
    {
     "name": "stdout",
     "output_type": "stream",
     "text": [
      "True\n"
     ]
    }
   ],
   "execution_count": 10
  },
  {
   "metadata": {
    "ExecuteTime": {
     "end_time": "2025-01-24T19:07:27.341593Z",
     "start_time": "2025-01-24T19:07:27.326567Z"
    }
   },
   "cell_type": "code",
   "source": [
    "bigdata.add(\"Hoop\")\n",
    "bigdata"
   ],
   "id": "eb5a302c24b1f54a",
   "outputs": [
    {
     "data": {
      "text/plain": [
       "{'Asd', 'Hoop', 'Spark', 'Test'}"
      ]
     },
     "execution_count": 11,
     "metadata": {},
     "output_type": "execute_result"
    }
   ],
   "execution_count": 11
  },
  {
   "metadata": {
    "ExecuteTime": {
     "end_time": "2025-01-24T19:08:02.449204Z",
     "start_time": "2025-01-24T19:08:02.434663Z"
    }
   },
   "cell_type": "code",
   "source": [
    "tuple = (1, 2, 3)\n",
    "print(tuple)"
   ],
   "id": "4a15c31da4785129",
   "outputs": [
    {
     "name": "stdout",
     "output_type": "stream",
     "text": [
      "(1, 2, 3)\n"
     ]
    }
   ],
   "execution_count": 12
  },
  {
   "metadata": {
    "ExecuteTime": {
     "end_time": "2025-01-24T19:08:18.626243Z",
     "start_time": "2025-01-24T19:08:18.617770Z"
    }
   },
   "cell_type": "code",
   "source": "tuple[2]",
   "id": "ef9973a4b0f8784e",
   "outputs": [
    {
     "data": {
      "text/plain": [
       "3"
      ]
     },
     "execution_count": 14,
     "metadata": {},
     "output_type": "execute_result"
    }
   ],
   "execution_count": 14
  },
  {
   "metadata": {
    "ExecuteTime": {
     "end_time": "2025-01-24T19:10:15.134267Z",
     "start_time": "2025-01-24T19:10:15.119235Z"
    }
   },
   "cell_type": "code",
   "source": [
    "dic = {(0,1) : 1, (1,2) : 2, (2,3) : 3, (3,4) : 4, (4,5) : 5, (5,6) : 6, (6,7) : 7, (7,8) : 8, (8,9) : 9, (9,10) : 10}\n",
    "print(dic)"
   ],
   "id": "c4de987a99b21ce8",
   "outputs": [
    {
     "name": "stdout",
     "output_type": "stream",
     "text": [
      "{(0, 1): 1, (1, 2): 2, (2, 3): 3, (3, 4): 4, (4, 5): 5, (5, 6): 6, (6, 7): 7, (7, 8): 8, (8, 9): 9, (9, 10): 10}\n"
     ]
    }
   ],
   "execution_count": 15
  },
  {
   "metadata": {
    "ExecuteTime": {
     "end_time": "2025-01-24T19:10:51.031980Z",
     "start_time": "2025-01-24T19:10:51.017955Z"
    }
   },
   "cell_type": "code",
   "source": [
    "print(type(dic))\n",
    "print(type(tuple))\n",
    "print(type(bigdata))"
   ],
   "id": "87b213b512aaca3a",
   "outputs": [
    {
     "name": "stdout",
     "output_type": "stream",
     "text": [
      "<class 'dict'>\n",
      "<class 'tuple'>\n",
      "<class 'set'>\n"
     ]
    }
   ],
   "execution_count": 16
  }
 ],
 "metadata": {
  "kernelspec": {
   "display_name": "Python 3",
   "language": "python",
   "name": "python3"
  },
  "language_info": {
   "codemirror_mode": {
    "name": "ipython",
    "version": 2
   },
   "file_extension": ".py",
   "mimetype": "text/x-python",
   "name": "python",
   "nbconvert_exporter": "python",
   "pygments_lexer": "ipython2",
   "version": "2.7.6"
  }
 },
 "nbformat": 4,
 "nbformat_minor": 5
}
